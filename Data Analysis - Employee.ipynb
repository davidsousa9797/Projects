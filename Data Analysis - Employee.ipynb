{
 "cells": [
  {
   "cell_type": "code",
   "execution_count": 8,
   "id": "eaa2864d",
   "metadata": {},
   "outputs": [],
   "source": [
    "import numpy as np\n",
    "import pandas as pd\n",
    "import matplotlib.pyplot as plt\n",
    "import seaborn as sns\n",
    "%matplotlib inline"
   ]
  },
  {
   "cell_type": "code",
   "execution_count": 9,
   "id": "83b509e2",
   "metadata": {},
   "outputs": [],
   "source": [
    "employee = pd.read_csv(\"employee\")"
   ]
  },
  {
   "cell_type": "code",
   "execution_count": 10,
   "id": "10cf9cf9",
   "metadata": {},
   "outputs": [
    {
     "data": {
      "text/html": [
       "<div>\n",
       "<style scoped>\n",
       "    .dataframe tbody tr th:only-of-type {\n",
       "        vertical-align: middle;\n",
       "    }\n",
       "\n",
       "    .dataframe tbody tr th {\n",
       "        vertical-align: top;\n",
       "    }\n",
       "\n",
       "    .dataframe thead th {\n",
       "        text-align: right;\n",
       "    }\n",
       "</style>\n",
       "<table border=\"1\" class=\"dataframe\">\n",
       "  <thead>\n",
       "    <tr style=\"text-align: right;\">\n",
       "      <th></th>\n",
       "      <th>Education</th>\n",
       "      <th>JoiningYear</th>\n",
       "      <th>City</th>\n",
       "      <th>PaymentTier</th>\n",
       "      <th>Age</th>\n",
       "      <th>Gender</th>\n",
       "      <th>EverBenched</th>\n",
       "      <th>ExperienceInCurrentDomain</th>\n",
       "      <th>LeaveOrNot</th>\n",
       "    </tr>\n",
       "  </thead>\n",
       "  <tbody>\n",
       "    <tr>\n",
       "      <th>0</th>\n",
       "      <td>Bachelors</td>\n",
       "      <td>2017</td>\n",
       "      <td>Bangalore</td>\n",
       "      <td>3</td>\n",
       "      <td>34</td>\n",
       "      <td>Male</td>\n",
       "      <td>No</td>\n",
       "      <td>0</td>\n",
       "      <td>0</td>\n",
       "    </tr>\n",
       "    <tr>\n",
       "      <th>1</th>\n",
       "      <td>Bachelors</td>\n",
       "      <td>2013</td>\n",
       "      <td>Pune</td>\n",
       "      <td>1</td>\n",
       "      <td>28</td>\n",
       "      <td>Female</td>\n",
       "      <td>No</td>\n",
       "      <td>3</td>\n",
       "      <td>1</td>\n",
       "    </tr>\n",
       "    <tr>\n",
       "      <th>2</th>\n",
       "      <td>Bachelors</td>\n",
       "      <td>2014</td>\n",
       "      <td>New Delhi</td>\n",
       "      <td>3</td>\n",
       "      <td>38</td>\n",
       "      <td>Female</td>\n",
       "      <td>No</td>\n",
       "      <td>2</td>\n",
       "      <td>0</td>\n",
       "    </tr>\n",
       "    <tr>\n",
       "      <th>3</th>\n",
       "      <td>Masters</td>\n",
       "      <td>2016</td>\n",
       "      <td>Bangalore</td>\n",
       "      <td>3</td>\n",
       "      <td>27</td>\n",
       "      <td>Male</td>\n",
       "      <td>No</td>\n",
       "      <td>5</td>\n",
       "      <td>1</td>\n",
       "    </tr>\n",
       "    <tr>\n",
       "      <th>4</th>\n",
       "      <td>Masters</td>\n",
       "      <td>2017</td>\n",
       "      <td>Pune</td>\n",
       "      <td>3</td>\n",
       "      <td>24</td>\n",
       "      <td>Male</td>\n",
       "      <td>Yes</td>\n",
       "      <td>2</td>\n",
       "      <td>1</td>\n",
       "    </tr>\n",
       "    <tr>\n",
       "      <th>...</th>\n",
       "      <td>...</td>\n",
       "      <td>...</td>\n",
       "      <td>...</td>\n",
       "      <td>...</td>\n",
       "      <td>...</td>\n",
       "      <td>...</td>\n",
       "      <td>...</td>\n",
       "      <td>...</td>\n",
       "      <td>...</td>\n",
       "    </tr>\n",
       "    <tr>\n",
       "      <th>4648</th>\n",
       "      <td>Bachelors</td>\n",
       "      <td>2013</td>\n",
       "      <td>Bangalore</td>\n",
       "      <td>3</td>\n",
       "      <td>26</td>\n",
       "      <td>Female</td>\n",
       "      <td>No</td>\n",
       "      <td>4</td>\n",
       "      <td>0</td>\n",
       "    </tr>\n",
       "    <tr>\n",
       "      <th>4649</th>\n",
       "      <td>Masters</td>\n",
       "      <td>2013</td>\n",
       "      <td>Pune</td>\n",
       "      <td>2</td>\n",
       "      <td>37</td>\n",
       "      <td>Male</td>\n",
       "      <td>No</td>\n",
       "      <td>2</td>\n",
       "      <td>1</td>\n",
       "    </tr>\n",
       "    <tr>\n",
       "      <th>4650</th>\n",
       "      <td>Masters</td>\n",
       "      <td>2018</td>\n",
       "      <td>New Delhi</td>\n",
       "      <td>3</td>\n",
       "      <td>27</td>\n",
       "      <td>Male</td>\n",
       "      <td>No</td>\n",
       "      <td>5</td>\n",
       "      <td>1</td>\n",
       "    </tr>\n",
       "    <tr>\n",
       "      <th>4651</th>\n",
       "      <td>Bachelors</td>\n",
       "      <td>2012</td>\n",
       "      <td>Bangalore</td>\n",
       "      <td>3</td>\n",
       "      <td>30</td>\n",
       "      <td>Male</td>\n",
       "      <td>Yes</td>\n",
       "      <td>2</td>\n",
       "      <td>0</td>\n",
       "    </tr>\n",
       "    <tr>\n",
       "      <th>4652</th>\n",
       "      <td>Bachelors</td>\n",
       "      <td>2015</td>\n",
       "      <td>Bangalore</td>\n",
       "      <td>3</td>\n",
       "      <td>33</td>\n",
       "      <td>Male</td>\n",
       "      <td>Yes</td>\n",
       "      <td>4</td>\n",
       "      <td>0</td>\n",
       "    </tr>\n",
       "  </tbody>\n",
       "</table>\n",
       "<p>4653 rows × 9 columns</p>\n",
       "</div>"
      ],
      "text/plain": [
       "      Education  JoiningYear       City  PaymentTier  Age  Gender EverBenched  \\\n",
       "0     Bachelors         2017  Bangalore            3   34    Male          No   \n",
       "1     Bachelors         2013       Pune            1   28  Female          No   \n",
       "2     Bachelors         2014  New Delhi            3   38  Female          No   \n",
       "3       Masters         2016  Bangalore            3   27    Male          No   \n",
       "4       Masters         2017       Pune            3   24    Male         Yes   \n",
       "...         ...          ...        ...          ...  ...     ...         ...   \n",
       "4648  Bachelors         2013  Bangalore            3   26  Female          No   \n",
       "4649    Masters         2013       Pune            2   37    Male          No   \n",
       "4650    Masters         2018  New Delhi            3   27    Male          No   \n",
       "4651  Bachelors         2012  Bangalore            3   30    Male         Yes   \n",
       "4652  Bachelors         2015  Bangalore            3   33    Male         Yes   \n",
       "\n",
       "      ExperienceInCurrentDomain  LeaveOrNot  \n",
       "0                             0           0  \n",
       "1                             3           1  \n",
       "2                             2           0  \n",
       "3                             5           1  \n",
       "4                             2           1  \n",
       "...                         ...         ...  \n",
       "4648                          4           0  \n",
       "4649                          2           1  \n",
       "4650                          5           1  \n",
       "4651                          2           0  \n",
       "4652                          4           0  \n",
       "\n",
       "[4653 rows x 9 columns]"
      ]
     },
     "metadata": {},
     "output_type": "display_data"
    }
   ],
   "source": [
    "display(employee)"
   ]
  },
  {
   "cell_type": "code",
   "execution_count": 11,
   "id": "e94641cd",
   "metadata": {},
   "outputs": [
    {
     "data": {
      "text/html": [
       "<div>\n",
       "<style scoped>\n",
       "    .dataframe tbody tr th:only-of-type {\n",
       "        vertical-align: middle;\n",
       "    }\n",
       "\n",
       "    .dataframe tbody tr th {\n",
       "        vertical-align: top;\n",
       "    }\n",
       "\n",
       "    .dataframe thead th {\n",
       "        text-align: right;\n",
       "    }\n",
       "</style>\n",
       "<table border=\"1\" class=\"dataframe\">\n",
       "  <thead>\n",
       "    <tr style=\"text-align: right;\">\n",
       "      <th></th>\n",
       "      <th>Education</th>\n",
       "      <th>JoiningYear</th>\n",
       "      <th>City</th>\n",
       "      <th>PaymentTier</th>\n",
       "      <th>Age</th>\n",
       "      <th>Gender</th>\n",
       "      <th>EverBenched</th>\n",
       "      <th>ExperienceInCurrentDomain</th>\n",
       "      <th>LeaveOrNot</th>\n",
       "    </tr>\n",
       "  </thead>\n",
       "  <tbody>\n",
       "    <tr>\n",
       "      <th>0</th>\n",
       "      <td>Bachelors</td>\n",
       "      <td>2017</td>\n",
       "      <td>Bangalore</td>\n",
       "      <td>3</td>\n",
       "      <td>34</td>\n",
       "      <td>Male</td>\n",
       "      <td>No</td>\n",
       "      <td>0</td>\n",
       "      <td>0</td>\n",
       "    </tr>\n",
       "    <tr>\n",
       "      <th>1</th>\n",
       "      <td>Bachelors</td>\n",
       "      <td>2013</td>\n",
       "      <td>Pune</td>\n",
       "      <td>1</td>\n",
       "      <td>28</td>\n",
       "      <td>Female</td>\n",
       "      <td>No</td>\n",
       "      <td>3</td>\n",
       "      <td>1</td>\n",
       "    </tr>\n",
       "    <tr>\n",
       "      <th>2</th>\n",
       "      <td>Bachelors</td>\n",
       "      <td>2014</td>\n",
       "      <td>New Delhi</td>\n",
       "      <td>3</td>\n",
       "      <td>38</td>\n",
       "      <td>Female</td>\n",
       "      <td>No</td>\n",
       "      <td>2</td>\n",
       "      <td>0</td>\n",
       "    </tr>\n",
       "    <tr>\n",
       "      <th>3</th>\n",
       "      <td>Masters</td>\n",
       "      <td>2016</td>\n",
       "      <td>Bangalore</td>\n",
       "      <td>3</td>\n",
       "      <td>27</td>\n",
       "      <td>Male</td>\n",
       "      <td>No</td>\n",
       "      <td>5</td>\n",
       "      <td>1</td>\n",
       "    </tr>\n",
       "    <tr>\n",
       "      <th>4</th>\n",
       "      <td>Masters</td>\n",
       "      <td>2017</td>\n",
       "      <td>Pune</td>\n",
       "      <td>3</td>\n",
       "      <td>24</td>\n",
       "      <td>Male</td>\n",
       "      <td>Yes</td>\n",
       "      <td>2</td>\n",
       "      <td>1</td>\n",
       "    </tr>\n",
       "    <tr>\n",
       "      <th>...</th>\n",
       "      <td>...</td>\n",
       "      <td>...</td>\n",
       "      <td>...</td>\n",
       "      <td>...</td>\n",
       "      <td>...</td>\n",
       "      <td>...</td>\n",
       "      <td>...</td>\n",
       "      <td>...</td>\n",
       "      <td>...</td>\n",
       "    </tr>\n",
       "    <tr>\n",
       "      <th>4648</th>\n",
       "      <td>Bachelors</td>\n",
       "      <td>2013</td>\n",
       "      <td>Bangalore</td>\n",
       "      <td>3</td>\n",
       "      <td>26</td>\n",
       "      <td>Female</td>\n",
       "      <td>No</td>\n",
       "      <td>4</td>\n",
       "      <td>0</td>\n",
       "    </tr>\n",
       "    <tr>\n",
       "      <th>4649</th>\n",
       "      <td>Masters</td>\n",
       "      <td>2013</td>\n",
       "      <td>Pune</td>\n",
       "      <td>2</td>\n",
       "      <td>37</td>\n",
       "      <td>Male</td>\n",
       "      <td>No</td>\n",
       "      <td>2</td>\n",
       "      <td>1</td>\n",
       "    </tr>\n",
       "    <tr>\n",
       "      <th>4650</th>\n",
       "      <td>Masters</td>\n",
       "      <td>2018</td>\n",
       "      <td>New Delhi</td>\n",
       "      <td>3</td>\n",
       "      <td>27</td>\n",
       "      <td>Male</td>\n",
       "      <td>No</td>\n",
       "      <td>5</td>\n",
       "      <td>1</td>\n",
       "    </tr>\n",
       "    <tr>\n",
       "      <th>4651</th>\n",
       "      <td>Bachelors</td>\n",
       "      <td>2012</td>\n",
       "      <td>Bangalore</td>\n",
       "      <td>3</td>\n",
       "      <td>30</td>\n",
       "      <td>Male</td>\n",
       "      <td>Yes</td>\n",
       "      <td>2</td>\n",
       "      <td>0</td>\n",
       "    </tr>\n",
       "    <tr>\n",
       "      <th>4652</th>\n",
       "      <td>Bachelors</td>\n",
       "      <td>2015</td>\n",
       "      <td>Bangalore</td>\n",
       "      <td>3</td>\n",
       "      <td>33</td>\n",
       "      <td>Male</td>\n",
       "      <td>Yes</td>\n",
       "      <td>4</td>\n",
       "      <td>0</td>\n",
       "    </tr>\n",
       "  </tbody>\n",
       "</table>\n",
       "<p>4653 rows × 9 columns</p>\n",
       "</div>"
      ],
      "text/plain": [
       "      Education  JoiningYear       City  PaymentTier  Age  Gender EverBenched  \\\n",
       "0     Bachelors         2017  Bangalore            3   34    Male          No   \n",
       "1     Bachelors         2013       Pune            1   28  Female          No   \n",
       "2     Bachelors         2014  New Delhi            3   38  Female          No   \n",
       "3       Masters         2016  Bangalore            3   27    Male          No   \n",
       "4       Masters         2017       Pune            3   24    Male         Yes   \n",
       "...         ...          ...        ...          ...  ...     ...         ...   \n",
       "4648  Bachelors         2013  Bangalore            3   26  Female          No   \n",
       "4649    Masters         2013       Pune            2   37    Male          No   \n",
       "4650    Masters         2018  New Delhi            3   27    Male          No   \n",
       "4651  Bachelors         2012  Bangalore            3   30    Male         Yes   \n",
       "4652  Bachelors         2015  Bangalore            3   33    Male         Yes   \n",
       "\n",
       "      ExperienceInCurrentDomain  LeaveOrNot  \n",
       "0                             0           0  \n",
       "1                             3           1  \n",
       "2                             2           0  \n",
       "3                             5           1  \n",
       "4                             2           1  \n",
       "...                         ...         ...  \n",
       "4648                          4           0  \n",
       "4649                          2           1  \n",
       "4650                          5           1  \n",
       "4651                          2           0  \n",
       "4652                          4           0  \n",
       "\n",
       "[4653 rows x 9 columns]"
      ]
     },
     "metadata": {},
     "output_type": "display_data"
    }
   ],
   "source": [
    "display(employee)"
   ]
  },
  {
   "cell_type": "code",
   "execution_count": 12,
   "id": "9551c5ca",
   "metadata": {},
   "outputs": [
    {
     "data": {
      "text/plain": [
       "Education  PaymentTier\n",
       "Bachelors  3              2885\n",
       "           2               543\n",
       "           1               173\n",
       "Masters    3               462\n",
       "           2               355\n",
       "           1                56\n",
       "PHD        3               145\n",
       "           2                20\n",
       "           1                14\n",
       "Name: PaymentTier, dtype: int64"
      ]
     },
     "execution_count": 12,
     "metadata": {},
     "output_type": "execute_result"
    }
   ],
   "source": [
    "\n",
    "employee.groupby('Education').PaymentTier.value_counts()\n"
   ]
  },
  {
   "cell_type": "code",
   "execution_count": 13,
   "id": "3cbc086c",
   "metadata": {},
   "outputs": [
    {
     "name": "stdout",
     "output_type": "stream",
     "text": [
      "3601\n"
     ]
    }
   ],
   "source": [
    "Bachelor_Count=2885+543+173\n",
    "print(Bachelor_Count)\n"
   ]
  },
  {
   "cell_type": "code",
   "execution_count": 14,
   "id": "636485d6",
   "metadata": {},
   "outputs": [
    {
     "name": "stdout",
     "output_type": "stream",
     "text": [
      "873\n"
     ]
    }
   ],
   "source": [
    "Masters_Count=462+355+56\n",
    "print(Masters_Count)"
   ]
  },
  {
   "cell_type": "code",
   "execution_count": 15,
   "id": "d98a65de",
   "metadata": {},
   "outputs": [
    {
     "name": "stdout",
     "output_type": "stream",
     "text": [
      "179\n"
     ]
    }
   ],
   "source": [
    "PHD_Count=145+20+14\n",
    "print(PHD_Count)"
   ]
  },
  {
   "cell_type": "code",
   "execution_count": 16,
   "id": "2172793a",
   "metadata": {},
   "outputs": [
    {
     "name": "stdout",
     "output_type": "stream",
     "text": [
      "4653\n"
     ]
    }
   ],
   "source": [
    "Total_count=3601+873+179\n",
    "print(Total_count)"
   ]
  },
  {
   "cell_type": "code",
   "execution_count": 17,
   "id": "0bd1b2bd",
   "metadata": {},
   "outputs": [
    {
     "name": "stdout",
     "output_type": "stream",
     "text": [
      "77.39093058241994\n"
     ]
    }
   ],
   "source": [
    "Bachelors_percentage = (3601*100)/4653\n",
    "print(Bachelors_percentage)"
   ]
  },
  {
   "cell_type": "code",
   "execution_count": 18,
   "id": "fa71119d",
   "metadata": {},
   "outputs": [
    {
     "name": "stdout",
     "output_type": "stream",
     "text": [
      "18.762088974854933\n"
     ]
    }
   ],
   "source": [
    "Masters_Percentage = (873*100)/4653\n",
    "print(Masters_Percentage)"
   ]
  },
  {
   "cell_type": "code",
   "execution_count": 19,
   "id": "be2b24eb",
   "metadata": {},
   "outputs": [
    {
     "name": "stdout",
     "output_type": "stream",
     "text": [
      "3.8469804427251235\n"
     ]
    }
   ],
   "source": [
    "PHD_Percentage = (179*100)/4653\n",
    "print(PHD_Percentage)"
   ]
  },
  {
   "cell_type": "code",
   "execution_count": 20,
   "id": "30624af4",
   "metadata": {},
   "outputs": [],
   "source": [
    "Education_Tier = (employee.groupby('Education').PaymentTier.value_counts().unstack().fillna(0))"
   ]
  },
  {
   "cell_type": "code",
   "execution_count": 21,
   "id": "cdba16cc",
   "metadata": {},
   "outputs": [
    {
     "data": {
      "text/plain": [
       "<AxesSubplot:title={'center':'Correlation of Education and Payment Tier'}, xlabel='PaymentTier', ylabel='Education'>"
      ]
     },
     "execution_count": 21,
     "metadata": {},
     "output_type": "execute_result"
    },
    {
     "data": {
      "image/png": "[encoded data removed]",
      "text/plain": [
       "<Figure size 720x720 with 2 Axes>"
      ]
     },
     "metadata": {
      "needs_background": "light"
     },
     "output_type": "display_data"
    }
   ],
   "source": [
    "plt.figure(figsize=(10,10))\n",
    "plt.title(\"Correlation of Education and Payment Tier\")\n",
    "sns.heatmap(Education_Tier)\n"
   ]
  },
  {
   "cell_type": "code",
   "execution_count": 23,
   "id": "e6c1a72e",
   "metadata": {},
   "outputs": [
    {
     "data": {
      "text/plain": [
       "Gender  PaymentTier\n",
       "Female  3              1139\n",
       "        2               605\n",
       "        1               131\n",
       "Male    3              2353\n",
       "        2               313\n",
       "        1               112\n",
       "Name: PaymentTier, dtype: int64"
      ]
     },
     "execution_count": 23,
     "metadata": {},
     "output_type": "execute_result"
    }
   ],
   "source": [
    "employee.groupby('Gender').PaymentTier.value_counts()"
   ]
  },
  {
   "cell_type": "code",
   "execution_count": 24,
   "id": "fb34b82e",
   "metadata": {},
   "outputs": [
    {
     "name": "stdout",
     "output_type": "stream",
     "text": [
      "1875\n",
      "2778\n",
      "4653\n"
     ]
    }
   ],
   "source": [
    "Female_count = 1139 + 605 + 131\n",
    "print(Female_count)\n",
    "Male_count = 2353+313+112\n",
    "print(Male_count)\n",
    "Total = 1139 + 605 + 131 + 2353+313+112\n",
    "print(Total)\n"
   ]
  },
  {
   "cell_type": "code",
   "execution_count": 25,
   "id": "3a920d04",
   "metadata": {},
   "outputs": [
    {
     "name": "stdout",
     "output_type": "stream",
     "text": [
      "40.29658284977434\n",
      "59.70341715022566\n"
     ]
    }
   ],
   "source": [
    "Female_percentage = 1875*100/4653\n",
    "print(Female_percentage)\n",
    "\n",
    "Male_percentage = 2778*100/4653\n",
    "print(Male_percentage)"
   ]
  },
  {
   "cell_type": "code",
   "execution_count": 26,
   "id": "ffacad76",
   "metadata": {},
   "outputs": [],
   "source": [
    "Gender_Tier = (employee.groupby('Gender').PaymentTier.value_counts().unstack().fillna(0))"
   ]
  },
  {
   "cell_type": "code",
   "execution_count": 27,
   "id": "6d8ab1c3",
   "metadata": {},
   "outputs": [
    {
     "data": {
      "text/plain": [
       "<AxesSubplot:title={'center':'Correlation of Gender and Payment Tier'}, xlabel='PaymentTier', ylabel='Gender'>"
      ]
     },
     "execution_count": 27,
     "metadata": {},
     "output_type": "execute_result"
    },
    {
     "data": {
      "image/png": "[encoded data removed]",
      "text/plain": [
       "<Figure size 720x720 with 2 Axes>"
      ]
     },
     "metadata": {
      "needs_background": "light"
     },
     "output_type": "display_data"
    }
   ],
   "source": [
    "plt.figure(figsize=(10,10))\n",
    "plt.title(\"Correlation of Gender and Payment Tier\")\n",
    "sns.heatmap(Gender_Tier)"
   ]
  },
  {
   "cell_type": "code",
   "execution_count": 28,
   "id": "ddde8ca1",
   "metadata": {},
   "outputs": [
    {
     "data": {
      "text/plain": [
       "City       PaymentTier\n",
       "Bangalore  3              2051\n",
       "           1               112\n",
       "           2                65\n",
       "New Delhi  3               748\n",
       "           2               353\n",
       "           1                56\n",
       "Pune       3               693\n",
       "           2               500\n",
       "           1                75\n",
       "Name: PaymentTier, dtype: int64"
      ]
     },
     "execution_count": 28,
     "metadata": {},
     "output_type": "execute_result"
    }
   ],
   "source": [
    "employee.groupby('City').PaymentTier.value_counts()"
   ]
  },
  {
   "cell_type": "code",
   "execution_count": 29,
   "id": "2393a566",
   "metadata": {},
   "outputs": [],
   "source": [
    "City_Tier = (employee.groupby('City').PaymentTier.value_counts().unstack().fillna(0))"
   ]
  },
  {
   "cell_type": "code",
   "execution_count": 30,
   "id": "33c7be03",
   "metadata": {},
   "outputs": [
    {
     "data": {
      "text/plain": [
       "<AxesSubplot:title={'center':'Correlation of City and Payment Tier'}, xlabel='PaymentTier', ylabel='City'>"
      ]
     },
     "execution_count": 30,
     "metadata": {},
     "output_type": "execute_result"
    },
    {
     "data": {
      "image/png": "[encoded data removed]",
      "text/plain": [
       "<Figure size 720x720 with 2 Axes>"
      ]
     },
     "metadata": {
      "needs_background": "light"
     },
     "output_type": "display_data"
    }
   ],
   "source": [
    "plt.figure(figsize=(10,10))\n",
    "plt.title(\"Correlation of City and Payment Tier\")\n",
    "sns.heatmap(City_Tier)"
   ]
  },
  {
   "cell_type": "code",
   "execution_count": 31,
   "id": "2976b7a1",
   "metadata": {},
   "outputs": [
    {
     "data": {
      "text/plain": [
       "count    4653.000000\n",
       "mean        2.698259\n",
       "std         0.561435\n",
       "min         1.000000\n",
       "25%         3.000000\n",
       "50%         3.000000\n",
       "75%         3.000000\n",
       "max         3.000000\n",
       "Name: PaymentTier, dtype: float64"
      ]
     },
     "execution_count": 31,
     "metadata": {},
     "output_type": "execute_result"
    }
   ],
   "source": [
    "employee.PaymentTier.describe()"
   ]
  },
  {
   "cell_type": "code",
   "execution_count": 32,
   "id": "6f371fa5",
   "metadata": {},
   "outputs": [
    {
     "data": {
      "text/plain": [
       "3    3492\n",
       "2     918\n",
       "1     243\n",
       "Name: PaymentTier, dtype: int64"
      ]
     },
     "execution_count": 32,
     "metadata": {},
     "output_type": "execute_result"
    }
   ],
   "source": [
    "employee.PaymentTier.value_counts()"
   ]
  },
  {
   "cell_type": "code",
   "execution_count": 33,
   "id": "93d97ebd",
   "metadata": {},
   "outputs": [
    {
     "data": {
      "text/plain": [
       "count          4653\n",
       "unique            3\n",
       "top       Bachelors\n",
       "freq           3601\n",
       "Name: Education, dtype: object"
      ]
     },
     "execution_count": 33,
     "metadata": {},
     "output_type": "execute_result"
    }
   ],
   "source": [
    "employee.Education.describe()"
   ]
  },
  {
   "cell_type": "code",
   "execution_count": 34,
   "id": "735eb7a1",
   "metadata": {},
   "outputs": [
    {
     "data": {
      "text/plain": [
       "Text(0.5, 1.0, 'Education and Payment Tier')"
      ]
     },
     "execution_count": 34,
     "metadata": {},
     "output_type": "execute_result"
    },
    {
     "data": {
      "image/png": "[encoded data removed]",
      "text/plain": [
       "<Figure size 432x288 with 1 Axes>"
      ]
     },
     "metadata": {
      "needs_background": "light"
     },
     "output_type": "display_data"
    }
   ],
   "source": [
    "sns.barplot(x=\"PaymentTier\", y=\"Education\",data = employee,hue = \"Gender\")\n",
    "plt.title(\"Education and Payment Tier\")"
   ]
  },
  {
   "cell_type": "code",
   "execution_count": 35,
   "id": "3970234a",
   "metadata": {},
   "outputs": [
    {
     "data": {
      "text/plain": [
       "count          4653\n",
       "unique            3\n",
       "top       Bangalore\n",
       "freq           2228\n",
       "Name: City, dtype: object"
      ]
     },
     "execution_count": 35,
     "metadata": {},
     "output_type": "execute_result"
    }
   ],
   "source": [
    "employee.City.describe()"
   ]
  },
  {
   "cell_type": "code",
   "execution_count": 36,
   "id": "787e00d9",
   "metadata": {},
   "outputs": [
    {
     "data": {
      "text/plain": [
       "<Figure size 720x720 with 0 Axes>"
      ]
     },
     "execution_count": 36,
     "metadata": {},
     "output_type": "execute_result"
    },
    {
     "data": {
      "image/png": "[encoded data removed]",
      "text/plain": [
       "<Figure size 432x288 with 1 Axes>"
      ]
     },
     "metadata": {
      "needs_background": "light"
     },
     "output_type": "display_data"
    },
    {
     "data": {
      "text/plain": [
       "<Figure size 720x720 with 0 Axes>"
      ]
     },
     "metadata": {},
     "output_type": "display_data"
    }
   ],
   "source": [
    "sns.barplot(x=\"PaymentTier\", y=\"City\",data = employee,hue = \"Gender\")\n",
    "plt.title(\"City and Payment Tier\")\n",
    "plt.figure(figsize=(10,10))"
   ]
  },
  {
   "cell_type": "code",
   "execution_count": 37,
   "id": "cd8f330f",
   "metadata": {},
   "outputs": [
    {
     "data": {
      "text/plain": [
       "count     4653\n",
       "unique       2\n",
       "top       Male\n",
       "freq      2778\n",
       "Name: Gender, dtype: object"
      ]
     },
     "execution_count": 37,
     "metadata": {},
     "output_type": "execute_result"
    }
   ],
   "source": [
    "employee.Gender.describe()"
   ]
  },
  {
   "cell_type": "code",
   "execution_count": 38,
   "id": "7bcae7d6",
   "metadata": {},
   "outputs": [
    {
     "data": {
      "text/plain": [
       "Text(0.5, 1.0, 'Gender and Payment Tier')"
      ]
     },
     "execution_count": 38,
     "metadata": {},
     "output_type": "execute_result"
    },
    {
     "data": {
      "image/png": "[encoded data removed]",
      "text/plain": [
       "<Figure size 432x288 with 1 Axes>"
      ]
     },
     "metadata": {
      "needs_background": "light"
     },
     "output_type": "display_data"
    }
   ],
   "source": [
    "sns.barplot(x=\"PaymentTier\", y=\"Gender\",data = employee,)\n",
    "plt.title(\"Gender and Payment Tier\")"
   ]
  },
  {
   "cell_type": "code",
   "execution_count": 42,
   "id": "e4676c99",
   "metadata": {},
   "outputs": [],
   "source": [
    "import numpy as np\n",
    "import pandas as pd\n",
    "import sklearn\n",
    "from sklearn import metrics\n",
    "from sklearn import datasets\n",
    "import matplotlib.pyplot as plt\n",
    "import seaborn as sns\n",
    "%matplotlib inline\n",
    "\n",
    "from sklearn.preprocessing import normalize\n",
    "import scipy.cluster.hierarchy as shc\n",
    "from sklearn import model_selection"
   ]
  },
  {
   "cell_type": "code",
   "execution_count": 43,
   "id": "e57b9497",
   "metadata": {},
   "outputs": [],
   "source": [
    "employee1 = employee.drop([\"JoiningYear\",\"Age\",\"EverBenched\", \"ExperienceInCurrentDomain\", \"LeaveOrNot\"], axis = 1)"
   ]
  },
  {
   "cell_type": "code",
   "execution_count": 44,
   "id": "8c1b10e7",
   "metadata": {},
   "outputs": [
    {
     "data": {
      "text/html": [
       "<div>\n",
       "<style scoped>\n",
       "    .dataframe tbody tr th:only-of-type {\n",
       "        vertical-align: middle;\n",
       "    }\n",
       "\n",
       "    .dataframe tbody tr th {\n",
       "        vertical-align: top;\n",
       "    }\n",
       "\n",
       "    .dataframe thead th {\n",
       "        text-align: right;\n",
       "    }\n",
       "</style>\n",
       "<table border=\"1\" class=\"dataframe\">\n",
       "  <thead>\n",
       "    <tr style=\"text-align: right;\">\n",
       "      <th></th>\n",
       "      <th>Education</th>\n",
       "      <th>City</th>\n",
       "      <th>PaymentTier</th>\n",
       "      <th>Gender</th>\n",
       "    </tr>\n",
       "  </thead>\n",
       "  <tbody>\n",
       "    <tr>\n",
       "      <th>0</th>\n",
       "      <td>11</td>\n",
       "      <td>6</td>\n",
       "      <td>3</td>\n",
       "      <td>9</td>\n",
       "    </tr>\n",
       "    <tr>\n",
       "      <th>1</th>\n",
       "      <td>11</td>\n",
       "      <td>7</td>\n",
       "      <td>1</td>\n",
       "      <td>10</td>\n",
       "    </tr>\n",
       "    <tr>\n",
       "      <th>2</th>\n",
       "      <td>11</td>\n",
       "      <td>8</td>\n",
       "      <td>3</td>\n",
       "      <td>10</td>\n",
       "    </tr>\n",
       "    <tr>\n",
       "      <th>3</th>\n",
       "      <td>12</td>\n",
       "      <td>6</td>\n",
       "      <td>3</td>\n",
       "      <td>9</td>\n",
       "    </tr>\n",
       "    <tr>\n",
       "      <th>4</th>\n",
       "      <td>12</td>\n",
       "      <td>7</td>\n",
       "      <td>3</td>\n",
       "      <td>9</td>\n",
       "    </tr>\n",
       "    <tr>\n",
       "      <th>...</th>\n",
       "      <td>...</td>\n",
       "      <td>...</td>\n",
       "      <td>...</td>\n",
       "      <td>...</td>\n",
       "    </tr>\n",
       "    <tr>\n",
       "      <th>4648</th>\n",
       "      <td>11</td>\n",
       "      <td>6</td>\n",
       "      <td>3</td>\n",
       "      <td>10</td>\n",
       "    </tr>\n",
       "    <tr>\n",
       "      <th>4649</th>\n",
       "      <td>12</td>\n",
       "      <td>7</td>\n",
       "      <td>2</td>\n",
       "      <td>9</td>\n",
       "    </tr>\n",
       "    <tr>\n",
       "      <th>4650</th>\n",
       "      <td>12</td>\n",
       "      <td>8</td>\n",
       "      <td>3</td>\n",
       "      <td>9</td>\n",
       "    </tr>\n",
       "    <tr>\n",
       "      <th>4651</th>\n",
       "      <td>11</td>\n",
       "      <td>6</td>\n",
       "      <td>3</td>\n",
       "      <td>9</td>\n",
       "    </tr>\n",
       "    <tr>\n",
       "      <th>4652</th>\n",
       "      <td>11</td>\n",
       "      <td>6</td>\n",
       "      <td>3</td>\n",
       "      <td>9</td>\n",
       "    </tr>\n",
       "  </tbody>\n",
       "</table>\n",
       "<p>4653 rows × 4 columns</p>\n",
       "</div>"
      ],
      "text/plain": [
       "      Education  City  PaymentTier  Gender\n",
       "0            11     6            3       9\n",
       "1            11     7            1      10\n",
       "2            11     8            3      10\n",
       "3            12     6            3       9\n",
       "4            12     7            3       9\n",
       "...         ...   ...          ...     ...\n",
       "4648         11     6            3      10\n",
       "4649         12     7            2       9\n",
       "4650         12     8            3       9\n",
       "4651         11     6            3       9\n",
       "4652         11     6            3       9\n",
       "\n",
       "[4653 rows x 4 columns]"
      ]
     },
     "execution_count": 44,
     "metadata": {},
     "output_type": "execute_result"
    }
   ],
   "source": [
    "employee1_mapped = employee1.copy()\n",
    "employee1_mapped[\"Education\"] = employee1_mapped[\"Education\"].map({\"Bachelors\":11,\"Masters\":12,\"PHD\":13})\n",
    "employee1_mapped[\"City\"] = employee1_mapped[\"City\"].map({\"Bangalore\":6,\"Pune\": 7,\"New Delhi\":8})\n",
    "employee1_mapped[\"Gender\"] = employee1_mapped[\"Gender\"].map({\"Male\":9,\"Female\": 10})\n",
    "employee1_mapped"
   ]
  },
  {
   "cell_type": "code",
   "execution_count": 45,
   "id": "2edefa0d",
   "metadata": {},
   "outputs": [
    {
     "data": {
      "text/html": [
       "<div>\n",
       "<style scoped>\n",
       "    .dataframe tbody tr th:only-of-type {\n",
       "        vertical-align: middle;\n",
       "    }\n",
       "\n",
       "    .dataframe tbody tr th {\n",
       "        vertical-align: top;\n",
       "    }\n",
       "\n",
       "    .dataframe thead th {\n",
       "        text-align: right;\n",
       "    }\n",
       "</style>\n",
       "<table border=\"1\" class=\"dataframe\">\n",
       "  <thead>\n",
       "    <tr style=\"text-align: right;\">\n",
       "      <th></th>\n",
       "      <th>Education</th>\n",
       "      <th>City</th>\n",
       "      <th>PaymentTier</th>\n",
       "      <th>Gender</th>\n",
       "    </tr>\n",
       "  </thead>\n",
       "  <tbody>\n",
       "    <tr>\n",
       "      <th>0</th>\n",
       "      <td>0.699913</td>\n",
       "      <td>0.381771</td>\n",
       "      <td>0.190885</td>\n",
       "      <td>0.572656</td>\n",
       "    </tr>\n",
       "    <tr>\n",
       "      <th>1</th>\n",
       "      <td>0.668202</td>\n",
       "      <td>0.425220</td>\n",
       "      <td>0.060746</td>\n",
       "      <td>0.607457</td>\n",
       "    </tr>\n",
       "    <tr>\n",
       "      <th>2</th>\n",
       "      <td>0.641533</td>\n",
       "      <td>0.466569</td>\n",
       "      <td>0.174964</td>\n",
       "      <td>0.583212</td>\n",
       "    </tr>\n",
       "    <tr>\n",
       "      <th>3</th>\n",
       "      <td>0.730297</td>\n",
       "      <td>0.365148</td>\n",
       "      <td>0.182574</td>\n",
       "      <td>0.547723</td>\n",
       "    </tr>\n",
       "    <tr>\n",
       "      <th>4</th>\n",
       "      <td>0.713326</td>\n",
       "      <td>0.416107</td>\n",
       "      <td>0.178331</td>\n",
       "      <td>0.534994</td>\n",
       "    </tr>\n",
       "  </tbody>\n",
       "</table>\n",
       "</div>"
      ],
      "text/plain": [
       "   Education      City  PaymentTier    Gender\n",
       "0   0.699913  0.381771     0.190885  0.572656\n",
       "1   0.668202  0.425220     0.060746  0.607457\n",
       "2   0.641533  0.466569     0.174964  0.583212\n",
       "3   0.730297  0.365148     0.182574  0.547723\n",
       "4   0.713326  0.416107     0.178331  0.534994"
      ]
     },
     "execution_count": 45,
     "metadata": {},
     "output_type": "execute_result"
    }
   ],
   "source": [
    "employee1_mapped_scaled = normalize(employee1_mapped)\n",
    "employee1_mapped_scaled = pd.DataFrame(employee1_mapped_scaled, columns=employee1_mapped.columns)\n",
    "employee1_mapped_scaled.head()"
   ]
  },
  {
   "cell_type": "code",
   "execution_count": 46,
   "id": "0aece849",
   "metadata": {},
   "outputs": [],
   "source": [
    "from sklearn.preprocessing import LabelEncoder\n",
    "X = employee1_mapped.values[:, 1:5]\n",
    "Y = employee1_mapped.values[:,2]\n",
    "n_samples, n_features = employee1_mapped.shape\n",
    "n_digits = len(np.unique(Y))\n",
    "Y2 = LabelEncoder().fit_transform(Y)"
   ]
  },
  {
   "cell_type": "code",
   "execution_count": 47,
   "id": "0ace5fa6",
   "metadata": {},
   "outputs": [
    {
     "data": {
      "image/png": "[encoded data removed]",
      "text/plain": [
       "<Figure size 720x504 with 1 Axes>"
      ]
     },
     "metadata": {
      "needs_background": "light"
     },
     "output_type": "display_data"
    }
   ],
   "source": [
    "#check how many cluster we have/ \n",
    "plt.figure(figsize=(10,7))  \n",
    "plt.title(\"dendrogram\")  \n",
    "dend = shc.dendrogram(shc.linkage(employee1_mapped_scaled, method='ward'))"
   ]
  },
  {
   "cell_type": "code",
   "execution_count": 48,
   "id": "a9de4dda",
   "metadata": {},
   "outputs": [
    {
     "data": {
      "text/plain": [
       "array([1, 1, 1, ..., 1, 1, 1], dtype=int64)"
      ]
     },
     "execution_count": 48,
     "metadata": {},
     "output_type": "execute_result"
    }
   ],
   "source": [
    "#cosine and average\n",
    "from sklearn.cluster import AgglomerativeClustering\n",
    "model = AgglomerativeClustering(n_clusters=3, affinity='cosine', linkage='average')  \n",
    "model.fit_predict(employee1_mapped_scaled)\n"
   ]
  },
  {
   "cell_type": "code",
   "execution_count": 49,
   "id": "8a48ca1d",
   "metadata": {},
   "outputs": [
    {
     "name": "stdout",
     "output_type": "stream",
     "text": [
      "Silhouette score 0.29228473496976964\n",
      "Completeness Score 0.5580083990383766\n",
      "Homogeneity score 0.15239818561477284\n"
     ]
    }
   ],
   "source": [
    "print(\"Silhouette score\",metrics.silhouette_score(X, model.labels_))\n",
    "print(\"Completeness Score\",metrics.completeness_score(Y, model.labels_))\n",
    "print(\"Homogeneity score\",metrics.homogeneity_score(Y, model.labels_))"
   ]
  },
  {
   "cell_type": "code",
   "execution_count": 50,
   "id": "541bbef3",
   "metadata": {},
   "outputs": [
    {
     "data": {
      "text/plain": [
       "array([1, 0, 0, ..., 0, 1, 1], dtype=int64)"
      ]
     },
     "execution_count": 50,
     "metadata": {},
     "output_type": "execute_result"
    }
   ],
   "source": [
    "#cosine and complete\n",
    "from sklearn.cluster import AgglomerativeClustering\n",
    "model1 = AgglomerativeClustering(n_clusters=3, affinity='cosine', linkage='complete')  \n",
    "model1.fit_predict(employee1_mapped_scaled)\n"
   ]
  },
  {
   "cell_type": "code",
   "execution_count": 51,
   "id": "e76f984e",
   "metadata": {},
   "outputs": [
    {
     "name": "stdout",
     "output_type": "stream",
     "text": [
      "Silhouette score 0.4746179114406845\n",
      "Completeness Score 0.21487523411688547\n",
      "Homogeneity score 0.24859730089101117\n"
     ]
    }
   ],
   "source": [
    "#print print cosine and complete scores\n",
    "print(\"Silhouette score\",metrics.silhouette_score(X, model1.labels_))\n",
    "print(\"Completeness Score\",metrics.completeness_score(Y, model1.labels_))\n",
    "print(\"Homogeneity score\",metrics.homogeneity_score(Y, model1.labels_))"
   ]
  },
  {
   "cell_type": "code",
   "execution_count": 52,
   "id": "1f67a469",
   "metadata": {},
   "outputs": [
    {
     "data": {
      "text/plain": [
       "array([1, 0, 0, ..., 0, 1, 1], dtype=int64)"
      ]
     },
     "execution_count": 52,
     "metadata": {},
     "output_type": "execute_result"
    }
   ],
   "source": [
    "#euclidean and complete\n",
    "from sklearn.cluster import AgglomerativeClustering\n",
    "model2 = AgglomerativeClustering(n_clusters=3, affinity='euclidean', linkage='complete')  \n",
    "model2.fit_predict(employee1_mapped_scaled)"
   ]
  },
  {
   "cell_type": "code",
   "execution_count": 53,
   "id": "8818bc7d",
   "metadata": {},
   "outputs": [
    {
     "name": "stdout",
     "output_type": "stream",
     "text": [
      "Silhouette score 0.4746179114406845\n",
      "Completeness Score 0.21487523411688547\n",
      "Homogeneity score 0.24859730089101117\n"
     ]
    }
   ],
   "source": [
    "#print print euclidean and complete scores\n",
    "print(\"Silhouette score\",metrics.silhouette_score(X, model2.labels_))\n",
    "print(\"Completeness Score\",metrics.completeness_score(Y, model2.labels_))\n",
    "print(\"Homogeneity score\",metrics.homogeneity_score(Y, model2.labels_))"
   ]
  },
  {
   "cell_type": "code",
   "execution_count": 54,
   "id": "783732d5",
   "metadata": {},
   "outputs": [
    {
     "data": {
      "text/plain": [
       "array([0, 1, 2, ..., 2, 0, 0], dtype=int64)"
      ]
     },
     "execution_count": 54,
     "metadata": {},
     "output_type": "execute_result"
    }
   ],
   "source": [
    "#euclidean and ward\n",
    "from sklearn.cluster import AgglomerativeClustering\n",
    "model3 = AgglomerativeClustering(n_clusters=3, affinity='euclidean', linkage='ward')  \n",
    "model3.fit_predict(employee1_mapped_scaled)"
   ]
  },
  {
   "cell_type": "code",
   "execution_count": 55,
   "id": "0beeadfb",
   "metadata": {},
   "outputs": [
    {
     "name": "stdout",
     "output_type": "stream",
     "text": [
      "Silhouette score 0.521550852010723\n",
      "Completeness Score 0.5256595039562972\n",
      "Homogeneity score 0.8144284815251249\n"
     ]
    }
   ],
   "source": [
    "#print print euclidean and ward scores\n",
    "print(\"Silhouette score\",metrics.silhouette_score(X, model3.labels_))\n",
    "print(\"Completeness Score\",metrics.completeness_score(Y, model3.labels_))\n",
    "print(\"Homogeneity score\",metrics.homogeneity_score(Y, model3.labels_))"
   ]
  },
  {
   "cell_type": "code",
   "execution_count": 56,
   "id": "766c8119",
   "metadata": {},
   "outputs": [
    {
     "data": {
      "text/plain": [
       "array([1, 1, 1, ..., 1, 1, 1], dtype=int64)"
      ]
     },
     "execution_count": 56,
     "metadata": {},
     "output_type": "execute_result"
    }
   ],
   "source": [
    "#euclidean and average\n",
    "from sklearn.cluster import AgglomerativeClustering\n",
    "model4 = AgglomerativeClustering(n_clusters=3, affinity='euclidean', linkage='average')  \n",
    "model4.fit_predict(employee1_mapped_scaled)"
   ]
  },
  {
   "cell_type": "code",
   "execution_count": 57,
   "id": "377b5cee",
   "metadata": {},
   "outputs": [
    {
     "name": "stdout",
     "output_type": "stream",
     "text": [
      "Silhouette score 0.29228473496976964\n",
      "Completeness Score 0.5580083990383766\n",
      "Homogeneity score 0.15239818561477284\n"
     ]
    }
   ],
   "source": [
    "#print print euclidean and average scores\n",
    "print(\"Silhouette score\",metrics.silhouette_score(X, model4.labels_))\n",
    "print(\"Completeness Score\",metrics.completeness_score(Y, model4.labels_))\n",
    "print(\"Homogeneity score\",metrics.homogeneity_score(Y, model4.labels_))"
   ]
  },
  {
   "cell_type": "code",
   "execution_count": 58,
   "id": "4fee20c2",
   "metadata": {},
   "outputs": [
    {
     "data": {
      "text/plain": [
       "array([0, 0, 0, ..., 0, 0, 0], dtype=int64)"
      ]
     },
     "execution_count": 58,
     "metadata": {},
     "output_type": "execute_result"
    }
   ],
   "source": [
    "#manhattan and average\n",
    "from sklearn.cluster import AgglomerativeClustering\n",
    "model5 = AgglomerativeClustering(n_clusters=3, affinity=\"manhattan\", linkage='average')  \n",
    "model5.fit_predict(employee1_mapped_scaled)"
   ]
  },
  {
   "cell_type": "code",
   "execution_count": 59,
   "id": "426762ad",
   "metadata": {},
   "outputs": [
    {
     "name": "stdout",
     "output_type": "stream",
     "text": [
      "Silhouette score 0.11287190796646573\n",
      "Completeness Score 0.23268602977743327\n",
      "Homogeneity score 0.00664479860265147\n"
     ]
    }
   ],
   "source": [
    "#print print manhattan and average scores\n",
    "print(\"Silhouette score\",metrics.silhouette_score(X, model5.labels_))\n",
    "print(\"Completeness Score\",metrics.completeness_score(Y, model5.labels_))\n",
    "print(\"Homogeneity score\",metrics.homogeneity_score(Y, model5.labels_))"
   ]
  },
  {
   "cell_type": "code",
   "execution_count": 60,
   "id": "b9a2659a",
   "metadata": {},
   "outputs": [
    {
     "data": {
      "text/plain": [
       "array([1, 2, 2, ..., 0, 1, 1], dtype=int64)"
      ]
     },
     "execution_count": 60,
     "metadata": {},
     "output_type": "execute_result"
    }
   ],
   "source": [
    "#manhattan and complete\n",
    "from sklearn.cluster import AgglomerativeClustering\n",
    "model6 = AgglomerativeClustering(n_clusters=3, affinity=\"manhattan\", linkage='complete')  \n",
    "model6.fit_predict(employee1_mapped_scaled)"
   ]
  },
  {
   "cell_type": "code",
   "execution_count": 61,
   "id": "fba9ecc1",
   "metadata": {},
   "outputs": [
    {
     "name": "stdout",
     "output_type": "stream",
     "text": [
      "Silhouette score 0.36432574754808533\n",
      "Completeness Score 0.12818329419148425\n",
      "Homogeneity score 0.1903375228598348\n"
     ]
    }
   ],
   "source": [
    "#print print manhattan and complete scores\n",
    "print(\"Silhouette score\",metrics.silhouette_score(X, model6.labels_))\n",
    "print(\"Completeness Score\",metrics.completeness_score(Y, model6.labels_))\n",
    "print(\"Homogeneity score\",metrics.homogeneity_score(Y, model6.labels_))"
   ]
  },
  {
   "cell_type": "code",
   "execution_count": 62,
   "id": "6afd59df",
   "metadata": {},
   "outputs": [
    {
     "data": {
      "image/png": "[encoded data removed]",
      "text/plain": [
       "<Figure size 1080x504 with 1 Axes>"
      ]
     },
     "metadata": {
      "needs_background": "light"
     },
     "output_type": "display_data"
    }
   ],
   "source": [
    "#Scores comparison\n",
    "N = 7\n",
    "ind = np.arange(N) \n",
    "width = 0.25\n",
    "plt.figure(figsize=(15,7))  \n",
    "Silhouette_score = [0.29228473496976964,0.4746179114406845,0.4746179114406845,0.521550852010723,0.29228473496976964,0.11287190796646573,0.36432574754808533]\n",
    "bar1 = plt.bar(ind, Silhouette_score, width, color = 'r')\n",
    "  \n",
    "Completeness_Score = [0.5580083990383766,0.21487523411688547,0.21487523411688547,0.5256595039562972,0.5580083990383766,0.23268602977743327,0.12818329419148425]\n",
    "bar2 = plt.bar(ind+width, Completeness_Score, width, color='g')\n",
    "  \n",
    "Homogeneity_score = [0.15239818561477284,0.24859730089101117,0.24859730089101117,0.8144284815251249,0.15239818561477284,0.00664479860265147,0.1903375228598348]\n",
    "bar3 = plt.bar(ind+width*2, Homogeneity_score, width, color = 'b')\n",
    "  \n",
    "plt.title(\"Scores Comparison\")\n",
    "  \n",
    "plt.xticks(ind+width,['cosine/average','cosine/complete','euclidean/complete','euclidean/ward','euclidean/average','manhattan/average','manhattan/complete'])\n",
    "plt.legend( (bar1, bar2, bar3), ('Silhouette score', 'Completeness Score', 'Homogeneity score') )\n",
    "plt.show()"
   ]
  },
  {
   "cell_type": "code",
   "execution_count": 63,
   "id": "255a0daa",
   "metadata": {},
   "outputs": [
    {
     "name": "stdout",
     "output_type": "stream",
     "text": [
      "2\n",
      "Silhouette score 0.43781378042100244\n",
      "Completeness Score 0.21617948848017723\n",
      "Homogeneity score 0.2138558670489278\n",
      "3\n",
      "Silhouette score 0.42521998302058406\n",
      "Completeness Score 0.15234257806255494\n",
      "Homogeneity score 0.2161290456101793\n",
      "4\n",
      "Silhouette score 0.4828900184916209\n",
      "Completeness Score 0.3207910472161248\n",
      "Homogeneity score 0.604486271807377\n",
      "5\n",
      "Silhouette score 0.4985211673680266\n",
      "Completeness Score 0.25729116062239876\n",
      "Homogeneity score 0.5555159480940587\n",
      "6\n",
      "Silhouette score 0.5738582364283327\n",
      "Completeness Score 0.3133635853179857\n",
      "Homogeneity score 0.778571564787125\n",
      "7\n",
      "Silhouette score 0.5970139228661319\n",
      "Completeness Score 0.23858313549710622\n",
      "Homogeneity score 0.6176491049167496\n",
      "8\n",
      "Silhouette score 0.6360305287552606\n",
      "Completeness Score 0.24208845907040527\n",
      "Homogeneity score 0.6726448960950767\n",
      "9\n",
      "Silhouette score 0.6537087858916564\n",
      "Completeness Score 0.2559399716614303\n",
      "Homogeneity score 0.7341663253790238\n",
      "10\n",
      "Silhouette score 0.6894663022445131\n",
      "Completeness Score 0.2644798608662998\n",
      "Homogeneity score 0.8014368860155371\n",
      "11\n",
      "Silhouette score 0.6999023074838272\n",
      "Completeness Score 0.25518049934741116\n",
      "Homogeneity score 0.7815719014869116\n",
      "12\n",
      "Silhouette score 0.7306709145703523\n",
      "Completeness Score 0.22189894033498703\n",
      "Homogeneity score 0.7068265669707046\n",
      "13\n",
      "Silhouette score 0.7467295756758905\n",
      "Completeness Score 0.20336785578597102\n",
      "Homogeneity score 0.6624135975902039\n",
      "14\n",
      "Silhouette score 0.7701712096092189\n",
      "Completeness Score 0.24248926115742872\n",
      "Homogeneity score 0.8018829591462219\n",
      "15\n",
      "Silhouette score 0.7848869456868233\n",
      "Completeness Score 0.23852614337447064\n",
      "Homogeneity score 0.800337991892797\n",
      "16\n",
      "Silhouette score 0.7964724311664368\n",
      "Completeness Score 0.23749550438257175\n",
      "Homogeneity score 0.8044909586760387\n",
      "17\n",
      "Silhouette score 0.8275676111631309\n",
      "Completeness Score 0.23442080034186835\n",
      "Homogeneity score 0.8201748107368656\n",
      "18\n",
      "Silhouette score 0.8382521068758771\n",
      "Completeness Score 0.23462626655577995\n",
      "Homogeneity score 0.8275049172959837\n",
      "19\n",
      "Silhouette score 0.8442373086622225\n",
      "Completeness Score 0.23122977537091025\n",
      "Homogeneity score 0.821874407215481\n"
     ]
    }
   ],
   "source": [
    "#K means\n",
    "from sklearn import cluster\n",
    "from sklearn.preprocessing import LabelEncoder\n",
    "n_samples, n_features = employee1_mapped.shape\n",
    "n_digits = len(np.unique(Y))\n",
    "Y2 = LabelEncoder().fit_transform(Y)\n",
    "for k in range(2, 20):\n",
    " kmeans = cluster.KMeans(n_clusters=k)\n",
    " kmeans.fit(employee1_mapped)\n",
    " print(k)\n",
    " print(\"Silhouette score\",metrics.silhouette_score(employee1_mapped, kmeans.labels_))\n",
    " print(\"Completeness Score\",metrics.completeness_score(Y2, kmeans.labels_))\n",
    " print(\"Homogeneity score\",metrics.homogeneity_score(Y2, kmeans.labels_))\n"
   ]
  },
  {
   "cell_type": "code",
   "execution_count": 64,
   "id": "257efc05",
   "metadata": {},
   "outputs": [
    {
     "data": {
      "image/png": "[encoded data removed]",
      "text/plain": [
       "<Figure size 432x288 with 1 Axes>"
      ]
     },
     "metadata": {
      "needs_background": "light"
     },
     "output_type": "display_data"
    }
   ],
   "source": [
    "\n",
    "#Comparing results of varying clusters k  means\n",
    "plt.plot([0.43781378042100244,0.46715283601852253,0.4829045023683216,0.5412495744544581,0.5733611439474345,0.6071815754367859,0.6306275916475264, 0.6575047468590974, 0.6827623274584592,0.7007589921083964,0.7224231144848399,0.7545797855819534,0.7788634069139875,0.7914482743436689,0.8100652832955568,0.8213411888483259,0.8382874912747659,0.8571423243619315])\n",
    "plt.plot([0.21617948848017723,0.4225879489762793,0.29300044601823644,0.22515348598023124,0.2239482714168082,0.26839211529750173,0.253365421169946,0.25864346778367114,0.19744860182566373,0.2469496823223821,0.25994358369405834,0.22245834520823107,0.24657596501913118,0.23053901174561606,0.24790958771240368,0.22282423161102544,0.23933816561330865,0.23780740920193258])\n",
    "plt.plot([0.2138558670489278,0.5960971942814728,0.5569861269327002,0.5046717047550364,0.5555333394703866,0.7054903128611947,0.7053381775644454,0.7470122794266589,0.5938590637149023,0.7586531485031663,0.8236293519969287,0.7270247993610475,0.8247727897912287,0.7820021106781698,0.8527687089519914,0.7755079331693397,0.8455045331897726,0.8520549075555421])\n",
    "plt.xlabel(\"Number of cluster\")\n",
    "plt.legend(['Silhouette score',\"Completeness Score\",\"Homogeneity score\"])\n",
    "plt.title(\"Results of Varying Clusters - Kmeans\")\n",
    "plt.grid(True)\n",
    "plt.show()"
   ]
  },
  {
   "cell_type": "code",
   "execution_count": 65,
   "id": "1f131ed4",
   "metadata": {},
   "outputs": [],
   "source": [
    "#Supervised method\n",
    "X= employee1_mapped.iloc[:, 1:5].values\n",
    "Y= employee1_mapped.iloc[:,2].values"
   ]
  },
  {
   "cell_type": "code",
   "execution_count": 66,
   "id": "d3792535",
   "metadata": {},
   "outputs": [
    {
     "name": "stdout",
     "output_type": "stream",
     "text": [
      "              precision    recall  f1-score   support\n",
      "\n",
      "           1       1.00      1.00      1.00        71\n",
      "           2       1.00      1.00      1.00       276\n",
      "           3       1.00      1.00      1.00      1049\n",
      "\n",
      "    accuracy                           1.00      1396\n",
      "   macro avg       1.00      1.00      1.00      1396\n",
      "weighted avg       1.00      1.00      1.00      1396\n",
      "\n",
      "[[  71    0    0]\n",
      " [   0  276    0]\n",
      " [   0    0 1049]]\n"
     ]
    },
    {
     "name": "stderr",
     "output_type": "stream",
     "text": [
      "C:\\ProgramData\\Anaconda3\\lib\\site-packages\\sklearn\\linear_model\\_logistic.py:763: ConvergenceWarning: lbfgs failed to converge (status=1):\n",
      "STOP: TOTAL NO. of ITERATIONS REACHED LIMIT.\n",
      "\n",
      "Increase the number of iterations (max_iter) or scale the data as shown in:\n",
      "    https://scikit-learn.org/stable/modules/preprocessing.html\n",
      "Please also refer to the documentation for alternative solver options:\n",
      "    https://scikit-learn.org/stable/modules/linear_model.html#logistic-regression\n",
      "  n_iter_i = _check_optimize_result(\n"
     ]
    }
   ],
   "source": [
    "from sklearn.linear_model import LogisticRegression\n",
    "from sklearn import preprocessing\n",
    "from sklearn import datasets\n",
    "from sklearn import metrics\n",
    "lm = LogisticRegression()\n",
    "X_train, X_test, Y_train, Y_test = sklearn.model_selection.train_test_split(X, Y, test_size=0.30)\n",
    "lm.fit(X_train, Y_train)\n",
    "lm.predict_proba(X_test)\n",
    "predicted = lm.predict(X_test)\n",
    "print(metrics.classification_report(Y_test, predicted))\n",
    "print(metrics.confusion_matrix(Y_test, predicted))"
   ]
  },
  {
   "cell_type": "code",
   "execution_count": 67,
   "id": "08f0b35b",
   "metadata": {},
   "outputs": [
    {
     "name": "stdout",
     "output_type": "stream",
     "text": [
      "DecisionTreeClassifier()\n",
      "              precision    recall  f1-score   support\n",
      "\n",
      "           1       1.00      1.00      1.00        79\n",
      "           2       1.00      1.00      1.00       272\n",
      "           3       1.00      1.00      1.00      1045\n",
      "\n",
      "    accuracy                           1.00      1396\n",
      "   macro avg       1.00      1.00      1.00      1396\n",
      "weighted avg       1.00      1.00      1.00      1396\n",
      "\n",
      "[[  79    0    0]\n",
      " [   0  272    0]\n",
      " [   0    0 1045]]\n"
     ]
    }
   ],
   "source": [
    "from sklearn.tree import DecisionTreeClassifier\n",
    "X_train, X_test, y_train, y_test = sklearn.model_selection.train_test_split(X, Y, test_size=0.30)\n",
    "model = DecisionTreeClassifier()\n",
    "model.fit(X_train, y_train)\n",
    "print(model)\n",
    "predicted = model.predict(X_test)\n",
    "print(metrics.classification_report(y_test, predicted))\n",
    "print(metrics.confusion_matrix(y_test, predicted))\n"
   ]
  },
  {
   "cell_type": "code",
   "execution_count": 68,
   "id": "b9b24278",
   "metadata": {},
   "outputs": [
    {
     "name": "stdout",
     "output_type": "stream",
     "text": [
      "KNeighborsClassifier()\n",
      "              precision    recall  f1-score   support\n",
      "\n",
      "           1       1.00      1.00      1.00        79\n",
      "           2       1.00      1.00      1.00       290\n",
      "           3       1.00      1.00      1.00      1027\n",
      "\n",
      "    accuracy                           1.00      1396\n",
      "   macro avg       1.00      1.00      1.00      1396\n",
      "weighted avg       1.00      1.00      1.00      1396\n",
      "\n",
      "[[  79    0    0]\n",
      " [   0  290    0]\n",
      " [   0    0 1027]]\n"
     ]
    }
   ],
   "source": [
    "from sklearn.neighbors import KNeighborsClassifier\n",
    "X_train, X_test, y_train, y_test = sklearn.model_selection.train_test_split(X, Y, test_size=0.30)\n",
    "model = KNeighborsClassifier()\n",
    "model.fit(X_train, y_train)\n",
    "print(model)\n",
    "predicted = model.predict(X_test)\n",
    "print(metrics.classification_report(y_test, predicted))\n",
    "print(metrics.confusion_matrix(y_test, predicted))"
   ]
  },
  {
   "cell_type": "code",
   "execution_count": 69,
   "id": "4375c945",
   "metadata": {},
   "outputs": [
    {
     "name": "stdout",
     "output_type": "stream",
     "text": [
      "GaussianNB()\n",
      "              precision    recall  f1-score   support\n",
      "\n",
      "           1       0.09      0.10      0.09        71\n",
      "           2       0.19      0.18      0.18       276\n",
      "           3       0.75      0.75      0.75      1049\n",
      "\n",
      "    accuracy                           0.60      1396\n",
      "   macro avg       0.34      0.34      0.34      1396\n",
      "weighted avg       0.60      0.60      0.60      1396\n",
      "\n",
      "[[  7  13  51]\n",
      " [ 13  50 213]\n",
      " [ 58 206 785]]\n"
     ]
    }
   ],
   "source": [
    "from sklearn.naive_bayes import GaussianNB\n",
    "X_train, X_test, y_train, y_test = sklearn.model_selection.train_test_split(X, Y, test_size=0.30)\n",
    "model = GaussianNB()\n",
    "model.fit(X_train, y_train)\n",
    "print(model)\n",
    "predicted = model.predict(X_test)\n",
    "print(metrics.classification_report(Y_test, predicted))\n",
    "print(metrics.confusion_matrix(Y_test, predicted))"
   ]
  },
  {
   "cell_type": "code",
   "execution_count": null,
   "id": "a1fd6474",
   "metadata": {},
   "outputs": [],
   "source": []
  }
 ],
 "metadata": {
  "kernelspec": {
   "display_name": "Python 3",
   "language": "python",
   "name": "python3"
  },
  "language_info": {
   "codemirror_mode": {
    "name": "ipython",
    "version": 3
   },
   "file_extension": ".py",
   "mimetype": "text/x-python",
   "name": "python",
   "nbconvert_exporter": "python",
   "pygments_lexer": "ipython3",
   "version": "3.8.8"
  }
 },
 "nbformat": 4,
 "nbformat_minor": 5
}
