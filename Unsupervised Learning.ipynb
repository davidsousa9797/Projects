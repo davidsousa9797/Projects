{
 "cells": [
  {
   "cell_type": "code",
   "execution_count": 1,
   "id": "28d2e1da",
   "metadata": {},
   "outputs": [],
   "source": [
    "import numpy as np\n",
    "import pandas as pd\n",
    "import sklearn\n",
    "from sklearn import metrics\n",
    "from sklearn import datasets\n",
    "import matplotlib.pyplot as plt\n",
    "import seaborn as sns\n",
    "%matplotlib inline\n",
    "\n",
    "from sklearn.preprocessing import normalize\n",
    "import scipy.cluster.hierarchy as shc\n",
    "from sklearn import model_selection"
   ]
  },
  {
   "cell_type": "code",
   "execution_count": 2,
   "id": "dac592c1",
   "metadata": {},
   "outputs": [
    {
     "data": {
      "text/html": [
       "<div>\n",
       "<style scoped>\n",
       "    .dataframe tbody tr th:only-of-type {\n",
       "        vertical-align: middle;\n",
       "    }\n",
       "\n",
       "    .dataframe tbody tr th {\n",
       "        vertical-align: top;\n",
       "    }\n",
       "\n",
       "    .dataframe thead th {\n",
       "        text-align: right;\n",
       "    }\n",
       "</style>\n",
       "<table border=\"1\" class=\"dataframe\">\n",
       "  <thead>\n",
       "    <tr style=\"text-align: right;\">\n",
       "      <th></th>\n",
       "      <th>Education</th>\n",
       "      <th>JoiningYear</th>\n",
       "      <th>City</th>\n",
       "      <th>PaymentTier</th>\n",
       "      <th>Age</th>\n",
       "      <th>Gender</th>\n",
       "      <th>EverBenched</th>\n",
       "      <th>ExperienceInCurrentDomain</th>\n",
       "      <th>LeaveOrNot</th>\n",
       "    </tr>\n",
       "  </thead>\n",
       "  <tbody>\n",
       "    <tr>\n",
       "      <th>0</th>\n",
       "      <td>Bachelors</td>\n",
       "      <td>2017</td>\n",
       "      <td>Bangalore</td>\n",
       "      <td>3</td>\n",
       "      <td>34</td>\n",
       "      <td>Male</td>\n",
       "      <td>No</td>\n",
       "      <td>0</td>\n",
       "      <td>0</td>\n",
       "    </tr>\n",
       "    <tr>\n",
       "      <th>1</th>\n",
       "      <td>Bachelors</td>\n",
       "      <td>2013</td>\n",
       "      <td>Pune</td>\n",
       "      <td>1</td>\n",
       "      <td>28</td>\n",
       "      <td>Female</td>\n",
       "      <td>No</td>\n",
       "      <td>3</td>\n",
       "      <td>1</td>\n",
       "    </tr>\n",
       "    <tr>\n",
       "      <th>2</th>\n",
       "      <td>Bachelors</td>\n",
       "      <td>2014</td>\n",
       "      <td>New Delhi</td>\n",
       "      <td>3</td>\n",
       "      <td>38</td>\n",
       "      <td>Female</td>\n",
       "      <td>No</td>\n",
       "      <td>2</td>\n",
       "      <td>0</td>\n",
       "    </tr>\n",
       "    <tr>\n",
       "      <th>3</th>\n",
       "      <td>Masters</td>\n",
       "      <td>2016</td>\n",
       "      <td>Bangalore</td>\n",
       "      <td>3</td>\n",
       "      <td>27</td>\n",
       "      <td>Male</td>\n",
       "      <td>No</td>\n",
       "      <td>5</td>\n",
       "      <td>1</td>\n",
       "    </tr>\n",
       "    <tr>\n",
       "      <th>4</th>\n",
       "      <td>Masters</td>\n",
       "      <td>2017</td>\n",
       "      <td>Pune</td>\n",
       "      <td>3</td>\n",
       "      <td>24</td>\n",
       "      <td>Male</td>\n",
       "      <td>Yes</td>\n",
       "      <td>2</td>\n",
       "      <td>1</td>\n",
       "    </tr>\n",
       "    <tr>\n",
       "      <th>...</th>\n",
       "      <td>...</td>\n",
       "      <td>...</td>\n",
       "      <td>...</td>\n",
       "      <td>...</td>\n",
       "      <td>...</td>\n",
       "      <td>...</td>\n",
       "      <td>...</td>\n",
       "      <td>...</td>\n",
       "      <td>...</td>\n",
       "    </tr>\n",
       "    <tr>\n",
       "      <th>4648</th>\n",
       "      <td>Bachelors</td>\n",
       "      <td>2013</td>\n",
       "      <td>Bangalore</td>\n",
       "      <td>3</td>\n",
       "      <td>26</td>\n",
       "      <td>Female</td>\n",
       "      <td>No</td>\n",
       "      <td>4</td>\n",
       "      <td>0</td>\n",
       "    </tr>\n",
       "    <tr>\n",
       "      <th>4649</th>\n",
       "      <td>Masters</td>\n",
       "      <td>2013</td>\n",
       "      <td>Pune</td>\n",
       "      <td>2</td>\n",
       "      <td>37</td>\n",
       "      <td>Male</td>\n",
       "      <td>No</td>\n",
       "      <td>2</td>\n",
       "      <td>1</td>\n",
       "    </tr>\n",
       "    <tr>\n",
       "      <th>4650</th>\n",
       "      <td>Masters</td>\n",
       "      <td>2018</td>\n",
       "      <td>New Delhi</td>\n",
       "      <td>3</td>\n",
       "      <td>27</td>\n",
       "      <td>Male</td>\n",
       "      <td>No</td>\n",
       "      <td>5</td>\n",
       "      <td>1</td>\n",
       "    </tr>\n",
       "    <tr>\n",
       "      <th>4651</th>\n",
       "      <td>Bachelors</td>\n",
       "      <td>2012</td>\n",
       "      <td>Bangalore</td>\n",
       "      <td>3</td>\n",
       "      <td>30</td>\n",
       "      <td>Male</td>\n",
       "      <td>Yes</td>\n",
       "      <td>2</td>\n",
       "      <td>0</td>\n",
       "    </tr>\n",
       "    <tr>\n",
       "      <th>4652</th>\n",
       "      <td>Bachelors</td>\n",
       "      <td>2015</td>\n",
       "      <td>Bangalore</td>\n",
       "      <td>3</td>\n",
       "      <td>33</td>\n",
       "      <td>Male</td>\n",
       "      <td>Yes</td>\n",
       "      <td>4</td>\n",
       "      <td>0</td>\n",
       "    </tr>\n",
       "  </tbody>\n",
       "</table>\n",
       "<p>4653 rows × 9 columns</p>\n",
       "</div>"
      ],
      "text/plain": [
       "      Education  JoiningYear       City  PaymentTier  Age  Gender EverBenched  \\\n",
       "0     Bachelors         2017  Bangalore            3   34    Male          No   \n",
       "1     Bachelors         2013       Pune            1   28  Female          No   \n",
       "2     Bachelors         2014  New Delhi            3   38  Female          No   \n",
       "3       Masters         2016  Bangalore            3   27    Male          No   \n",
       "4       Masters         2017       Pune            3   24    Male         Yes   \n",
       "...         ...          ...        ...          ...  ...     ...         ...   \n",
       "4648  Bachelors         2013  Bangalore            3   26  Female          No   \n",
       "4649    Masters         2013       Pune            2   37    Male          No   \n",
       "4650    Masters         2018  New Delhi            3   27    Male          No   \n",
       "4651  Bachelors         2012  Bangalore            3   30    Male         Yes   \n",
       "4652  Bachelors         2015  Bangalore            3   33    Male         Yes   \n",
       "\n",
       "      ExperienceInCurrentDomain  LeaveOrNot  \n",
       "0                             0           0  \n",
       "1                             3           1  \n",
       "2                             2           0  \n",
       "3                             5           1  \n",
       "4                             2           1  \n",
       "...                         ...         ...  \n",
       "4648                          4           0  \n",
       "4649                          2           1  \n",
       "4650                          5           1  \n",
       "4651                          2           0  \n",
       "4652                          4           0  \n",
       "\n",
       "[4653 rows x 9 columns]"
      ]
     },
     "metadata": {},
     "output_type": "display_data"
    }
   ],
   "source": [
    "employee = pd.read_csv(\"employee\")\n",
    "display(employee)"
   ]
  },
  {
   "cell_type": "code",
   "execution_count": 3,
   "id": "478bdcc7",
   "metadata": {},
   "outputs": [],
   "source": [
    "employee1 = employee.drop([\"JoiningYear\",\"Age\",\"EverBenched\", \"ExperienceInCurrentDomain\", \"LeaveOrNot\"], axis = 1)"
   ]
  },
  {
   "cell_type": "code",
   "execution_count": 4,
   "id": "056c772c",
   "metadata": {},
   "outputs": [
    {
     "data": {
      "text/html": [
       "<div>\n",
       "<style scoped>\n",
       "    .dataframe tbody tr th:only-of-type {\n",
       "        vertical-align: middle;\n",
       "    }\n",
       "\n",
       "    .dataframe tbody tr th {\n",
       "        vertical-align: top;\n",
       "    }\n",
       "\n",
       "    .dataframe thead th {\n",
       "        text-align: right;\n",
       "    }\n",
       "</style>\n",
       "<table border=\"1\" class=\"dataframe\">\n",
       "  <thead>\n",
       "    <tr style=\"text-align: right;\">\n",
       "      <th></th>\n",
       "      <th>Education</th>\n",
       "      <th>City</th>\n",
       "      <th>PaymentTier</th>\n",
       "      <th>Gender</th>\n",
       "    </tr>\n",
       "  </thead>\n",
       "  <tbody>\n",
       "    <tr>\n",
       "      <th>0</th>\n",
       "      <td>11</td>\n",
       "      <td>6</td>\n",
       "      <td>3</td>\n",
       "      <td>9</td>\n",
       "    </tr>\n",
       "    <tr>\n",
       "      <th>1</th>\n",
       "      <td>11</td>\n",
       "      <td>7</td>\n",
       "      <td>1</td>\n",
       "      <td>10</td>\n",
       "    </tr>\n",
       "    <tr>\n",
       "      <th>2</th>\n",
       "      <td>11</td>\n",
       "      <td>8</td>\n",
       "      <td>3</td>\n",
       "      <td>10</td>\n",
       "    </tr>\n",
       "    <tr>\n",
       "      <th>3</th>\n",
       "      <td>12</td>\n",
       "      <td>6</td>\n",
       "      <td>3</td>\n",
       "      <td>9</td>\n",
       "    </tr>\n",
       "    <tr>\n",
       "      <th>4</th>\n",
       "      <td>12</td>\n",
       "      <td>7</td>\n",
       "      <td>3</td>\n",
       "      <td>9</td>\n",
       "    </tr>\n",
       "    <tr>\n",
       "      <th>...</th>\n",
       "      <td>...</td>\n",
       "      <td>...</td>\n",
       "      <td>...</td>\n",
       "      <td>...</td>\n",
       "    </tr>\n",
       "    <tr>\n",
       "      <th>4648</th>\n",
       "      <td>11</td>\n",
       "      <td>6</td>\n",
       "      <td>3</td>\n",
       "      <td>10</td>\n",
       "    </tr>\n",
       "    <tr>\n",
       "      <th>4649</th>\n",
       "      <td>12</td>\n",
       "      <td>7</td>\n",
       "      <td>2</td>\n",
       "      <td>9</td>\n",
       "    </tr>\n",
       "    <tr>\n",
       "      <th>4650</th>\n",
       "      <td>12</td>\n",
       "      <td>8</td>\n",
       "      <td>3</td>\n",
       "      <td>9</td>\n",
       "    </tr>\n",
       "    <tr>\n",
       "      <th>4651</th>\n",
       "      <td>11</td>\n",
       "      <td>6</td>\n",
       "      <td>3</td>\n",
       "      <td>9</td>\n",
       "    </tr>\n",
       "    <tr>\n",
       "      <th>4652</th>\n",
       "      <td>11</td>\n",
       "      <td>6</td>\n",
       "      <td>3</td>\n",
       "      <td>9</td>\n",
       "    </tr>\n",
       "  </tbody>\n",
       "</table>\n",
       "<p>4653 rows × 4 columns</p>\n",
       "</div>"
      ],
      "text/plain": [
       "      Education  City  PaymentTier  Gender\n",
       "0            11     6            3       9\n",
       "1            11     7            1      10\n",
       "2            11     8            3      10\n",
       "3            12     6            3       9\n",
       "4            12     7            3       9\n",
       "...         ...   ...          ...     ...\n",
       "4648         11     6            3      10\n",
       "4649         12     7            2       9\n",
       "4650         12     8            3       9\n",
       "4651         11     6            3       9\n",
       "4652         11     6            3       9\n",
       "\n",
       "[4653 rows x 4 columns]"
      ]
     },
     "execution_count": 4,
     "metadata": {},
     "output_type": "execute_result"
    }
   ],
   "source": [
    "#changing the categorical values to numerical values in order to do a cluster\n",
    "employee1_mapped = employee1.copy()\n",
    "employee1_mapped[\"Education\"] = employee1_mapped[\"Education\"].map({\"Bachelors\":11,\"Masters\":12,\"PHD\":13})\n",
    "employee1_mapped[\"City\"] = employee1_mapped[\"City\"].map({\"Bangalore\":6,\"Pune\": 7,\"New Delhi\":8})\n",
    "employee1_mapped[\"Gender\"] = employee1_mapped[\"Gender\"].map({\"Male\":9,\"Female\": 10})\n",
    "employee1_mapped"
   ]
  },
  {
   "cell_type": "code",
   "execution_count": 5,
   "id": "49c383eb",
   "metadata": {},
   "outputs": [
    {
     "data": {
      "text/html": [
       "<div>\n",
       "<style scoped>\n",
       "    .dataframe tbody tr th:only-of-type {\n",
       "        vertical-align: middle;\n",
       "    }\n",
       "\n",
       "    .dataframe tbody tr th {\n",
       "        vertical-align: top;\n",
       "    }\n",
       "\n",
       "    .dataframe thead th {\n",
       "        text-align: right;\n",
       "    }\n",
       "</style>\n",
       "<table border=\"1\" class=\"dataframe\">\n",
       "  <thead>\n",
       "    <tr style=\"text-align: right;\">\n",
       "      <th></th>\n",
       "      <th>Education</th>\n",
       "      <th>City</th>\n",
       "      <th>PaymentTier</th>\n",
       "      <th>Gender</th>\n",
       "    </tr>\n",
       "  </thead>\n",
       "  <tbody>\n",
       "    <tr>\n",
       "      <th>0</th>\n",
       "      <td>0.699913</td>\n",
       "      <td>0.381771</td>\n",
       "      <td>0.190885</td>\n",
       "      <td>0.572656</td>\n",
       "    </tr>\n",
       "    <tr>\n",
       "      <th>1</th>\n",
       "      <td>0.668202</td>\n",
       "      <td>0.425220</td>\n",
       "      <td>0.060746</td>\n",
       "      <td>0.607457</td>\n",
       "    </tr>\n",
       "    <tr>\n",
       "      <th>2</th>\n",
       "      <td>0.641533</td>\n",
       "      <td>0.466569</td>\n",
       "      <td>0.174964</td>\n",
       "      <td>0.583212</td>\n",
       "    </tr>\n",
       "    <tr>\n",
       "      <th>3</th>\n",
       "      <td>0.730297</td>\n",
       "      <td>0.365148</td>\n",
       "      <td>0.182574</td>\n",
       "      <td>0.547723</td>\n",
       "    </tr>\n",
       "    <tr>\n",
       "      <th>4</th>\n",
       "      <td>0.713326</td>\n",
       "      <td>0.416107</td>\n",
       "      <td>0.178331</td>\n",
       "      <td>0.534994</td>\n",
       "    </tr>\n",
       "  </tbody>\n",
       "</table>\n",
       "</div>"
      ],
      "text/plain": [
       "   Education      City  PaymentTier    Gender\n",
       "0   0.699913  0.381771     0.190885  0.572656\n",
       "1   0.668202  0.425220     0.060746  0.607457\n",
       "2   0.641533  0.466569     0.174964  0.583212\n",
       "3   0.730297  0.365148     0.182574  0.547723\n",
       "4   0.713326  0.416107     0.178331  0.534994"
      ]
     },
     "execution_count": 5,
     "metadata": {},
     "output_type": "execute_result"
    }
   ],
   "source": [
    "#scaled the data \n",
    "\n",
    "employee1_mapped_scaled = normalize(employee1_mapped)\n",
    "employee1_mapped_scaled = pd.DataFrame(employee1_mapped_scaled, columns=employee1_mapped.columns)\n",
    "employee1_mapped_scaled.head()"
   ]
  },
  {
   "cell_type": "code",
   "execution_count": 6,
   "id": "a2e911bc",
   "metadata": {},
   "outputs": [],
   "source": [
    "from sklearn.preprocessing import LabelEncoder\n",
    "X = employee1_mapped.values[:, 1:5]\n",
    "Y = employee1_mapped.values[:,2]\n",
    "n_samples, n_features = employee1_mapped.shape\n",
    "n_digits = len(np.unique(Y))\n",
    "Y2 = LabelEncoder().fit_transform(Y)"
   ]
  },
  {
   "cell_type": "code",
   "execution_count": null,
   "id": "384cb169",
   "metadata": {},
   "outputs": [],
   "source": []
  },
  {
   "cell_type": "code",
   "execution_count": null,
   "id": "a0b3ead9",
   "metadata": {},
   "outputs": [],
   "source": []
  },
  {
   "cell_type": "code",
   "execution_count": null,
   "id": "9659c27c",
   "metadata": {},
   "outputs": [],
   "source": []
  },
  {
   "cell_type": "code",
   "execution_count": 7,
   "id": "cc4da982",
   "metadata": {
    "scrolled": true
   },
   "outputs": [
    {
     "data": {
      "image/png": "[encoded data removed]",
      "text/plain": [
       "<Figure size 720x504 with 1 Axes>"
      ]
     },
     "metadata": {
      "needs_background": "light"
     },
     "output_type": "display_data"
    }
   ],
   "source": [
    "#check how many cluster we have/ \n",
    "plt.figure(figsize=(10,7))  \n",
    "plt.title(\"dendrogram\")  \n",
    "dend = shc.dendrogram(shc.linkage(employee1_mapped_scaled, method='ward'))"
   ]
  },
  {
   "cell_type": "code",
   "execution_count": null,
   "id": "118e0c55",
   "metadata": {},
   "outputs": [],
   "source": []
  },
  {
   "cell_type": "code",
   "execution_count": 9,
   "id": "070e1dd8",
   "metadata": {},
   "outputs": [
    {
     "data": {
      "text/plain": [
       "array([1, 1, 1, ..., 1, 1, 1], dtype=int64)"
      ]
     },
     "execution_count": 9,
     "metadata": {},
     "output_type": "execute_result"
    }
   ],
   "source": [
    "#cosine and average\n",
    "from sklearn.cluster import AgglomerativeClustering\n",
    "model = AgglomerativeClustering(n_clusters=3, affinity='cosine', linkage='average')  \n",
    "model.fit_predict(employee1_mapped_scaled)\n"
   ]
  },
  {
   "cell_type": "code",
   "execution_count": 10,
   "id": "d1396c4b",
   "metadata": {},
   "outputs": [
    {
     "name": "stdout",
     "output_type": "stream",
     "text": [
      "Silhouette score 0.29228473496976964\n",
      "Completeness Score 0.5580083990383766\n",
      "Homogeneity score 0.15239818561477284\n"
     ]
    }
   ],
   "source": [
    "print(\"Silhouette score\",metrics.silhouette_score(X, model.labels_))\n",
    "print(\"Completeness Score\",metrics.completeness_score(Y, model.labels_))\n",
    "print(\"Homogeneity score\",metrics.homogeneity_score(Y, model.labels_))"
   ]
  },
  {
   "cell_type": "code",
   "execution_count": 11,
   "id": "cf56c347",
   "metadata": {},
   "outputs": [
    {
     "data": {
      "text/plain": [
       "array([1, 0, 0, ..., 0, 1, 1], dtype=int64)"
      ]
     },
     "execution_count": 11,
     "metadata": {},
     "output_type": "execute_result"
    }
   ],
   "source": [
    "#cosine and complete\n",
    "from sklearn.cluster import AgglomerativeClustering\n",
    "model1 = AgglomerativeClustering(n_clusters=3, affinity='cosine', linkage='complete')  \n",
    "model1.fit_predict(employee1_mapped_scaled)\n"
   ]
  },
  {
   "cell_type": "code",
   "execution_count": 12,
   "id": "bc5758c3",
   "metadata": {},
   "outputs": [
    {
     "name": "stdout",
     "output_type": "stream",
     "text": [
      "Silhouette score 0.4746179114406845\n",
      "Completeness Score 0.21487523411688547\n",
      "Homogeneity score 0.24859730089101117\n"
     ]
    }
   ],
   "source": [
    "#print print cosine and complete scores\n",
    "print(\"Silhouette score\",metrics.silhouette_score(X, model1.labels_))\n",
    "print(\"Completeness Score\",metrics.completeness_score(Y, model1.labels_))\n",
    "print(\"Homogeneity score\",metrics.homogeneity_score(Y, model1.labels_))"
   ]
  },
  {
   "cell_type": "code",
   "execution_count": 13,
   "id": "b4c2da8b",
   "metadata": {},
   "outputs": [
    {
     "data": {
      "text/plain": [
       "array([1, 0, 0, ..., 0, 1, 1], dtype=int64)"
      ]
     },
     "execution_count": 13,
     "metadata": {},
     "output_type": "execute_result"
    }
   ],
   "source": [
    "#euclidean and complete\n",
    "from sklearn.cluster import AgglomerativeClustering\n",
    "model2 = AgglomerativeClustering(n_clusters=3, affinity='euclidean', linkage='complete')  \n",
    "model2.fit_predict(employee1_mapped_scaled)"
   ]
  },
  {
   "cell_type": "code",
   "execution_count": 14,
   "id": "23be94b9",
   "metadata": {},
   "outputs": [
    {
     "name": "stdout",
     "output_type": "stream",
     "text": [
      "Silhouette score 0.4746179114406845\n",
      "Completeness Score 0.21487523411688547\n",
      "Homogeneity score 0.24859730089101117\n"
     ]
    }
   ],
   "source": [
    "#print print euclidean and complete scores\n",
    "print(\"Silhouette score\",metrics.silhouette_score(X, model2.labels_))\n",
    "print(\"Completeness Score\",metrics.completeness_score(Y, model2.labels_))\n",
    "print(\"Homogeneity score\",metrics.homogeneity_score(Y, model2.labels_))"
   ]
  },
  {
   "cell_type": "code",
   "execution_count": 15,
   "id": "d5b52bbc",
   "metadata": {},
   "outputs": [
    {
     "data": {
      "text/plain": [
       "array([0, 1, 2, ..., 2, 0, 0], dtype=int64)"
      ]
     },
     "execution_count": 15,
     "metadata": {},
     "output_type": "execute_result"
    }
   ],
   "source": [
    "#euclidean and ward\n",
    "from sklearn.cluster import AgglomerativeClustering\n",
    "model3 = AgglomerativeClustering(n_clusters=3, affinity='euclidean', linkage='ward')  \n",
    "model3.fit_predict(employee1_mapped_scaled)"
   ]
  },
  {
   "cell_type": "code",
   "execution_count": 16,
   "id": "94f72fbf",
   "metadata": {},
   "outputs": [
    {
     "name": "stdout",
     "output_type": "stream",
     "text": [
      "Silhouette score 0.521550852010723\n",
      "Completeness Score 0.5256595039562972\n",
      "Homogeneity score 0.8144284815251249\n"
     ]
    }
   ],
   "source": [
    "#print print euclidean and ward scores\n",
    "print(\"Silhouette score\",metrics.silhouette_score(X, model3.labels_))\n",
    "print(\"Completeness Score\",metrics.completeness_score(Y, model3.labels_))\n",
    "print(\"Homogeneity score\",metrics.homogeneity_score(Y, model3.labels_))"
   ]
  },
  {
   "cell_type": "code",
   "execution_count": 17,
   "id": "5fc6b1cd",
   "metadata": {},
   "outputs": [
    {
     "data": {
      "text/plain": [
       "array([1, 1, 1, ..., 1, 1, 1], dtype=int64)"
      ]
     },
     "execution_count": 17,
     "metadata": {},
     "output_type": "execute_result"
    }
   ],
   "source": [
    "#euclidean and average\n",
    "from sklearn.cluster import AgglomerativeClustering\n",
    "model4 = AgglomerativeClustering(n_clusters=3, affinity='euclidean', linkage='average')  \n",
    "model4.fit_predict(employee1_mapped_scaled)"
   ]
  },
  {
   "cell_type": "code",
   "execution_count": 18,
   "id": "25c2a97f",
   "metadata": {},
   "outputs": [
    {
     "name": "stdout",
     "output_type": "stream",
     "text": [
      "Silhouette score 0.29228473496976964\n",
      "Completeness Score 0.5580083990383766\n",
      "Homogeneity score 0.15239818561477284\n"
     ]
    }
   ],
   "source": [
    "#print print euclidean and average scores\n",
    "print(\"Silhouette score\",metrics.silhouette_score(X, model4.labels_))\n",
    "print(\"Completeness Score\",metrics.completeness_score(Y, model4.labels_))\n",
    "print(\"Homogeneity score\",metrics.homogeneity_score(Y, model4.labels_))"
   ]
  },
  {
   "cell_type": "code",
   "execution_count": 19,
   "id": "eb682a88",
   "metadata": {},
   "outputs": [
    {
     "data": {
      "text/plain": [
       "array([0, 0, 0, ..., 0, 0, 0], dtype=int64)"
      ]
     },
     "execution_count": 19,
     "metadata": {},
     "output_type": "execute_result"
    }
   ],
   "source": [
    "#manhattan and average\n",
    "from sklearn.cluster import AgglomerativeClustering\n",
    "model5 = AgglomerativeClustering(n_clusters=3, affinity=\"manhattan\", linkage='average')  \n",
    "model5.fit_predict(employee1_mapped_scaled)"
   ]
  },
  {
   "cell_type": "code",
   "execution_count": 20,
   "id": "bf140838",
   "metadata": {},
   "outputs": [
    {
     "name": "stdout",
     "output_type": "stream",
     "text": [
      "Silhouette score 0.11287190796646573\n",
      "Completeness Score 0.23268602977743327\n",
      "Homogeneity score 0.00664479860265147\n"
     ]
    }
   ],
   "source": [
    "#print print manhattan and average scores\n",
    "print(\"Silhouette score\",metrics.silhouette_score(X, model5.labels_))\n",
    "print(\"Completeness Score\",metrics.completeness_score(Y, model5.labels_))\n",
    "print(\"Homogeneity score\",metrics.homogeneity_score(Y, model5.labels_))"
   ]
  },
  {
   "cell_type": "code",
   "execution_count": 21,
   "id": "862ca3ac",
   "metadata": {},
   "outputs": [
    {
     "data": {
      "text/plain": [
       "array([1, 2, 2, ..., 0, 1, 1], dtype=int64)"
      ]
     },
     "execution_count": 21,
     "metadata": {},
     "output_type": "execute_result"
    }
   ],
   "source": [
    "#manhattan and complete\n",
    "from sklearn.cluster import AgglomerativeClustering\n",
    "model6 = AgglomerativeClustering(n_clusters=3, affinity=\"manhattan\", linkage='complete')  \n",
    "model6.fit_predict(employee1_mapped_scaled)"
   ]
  },
  {
   "cell_type": "code",
   "execution_count": 22,
   "id": "bb15bb79",
   "metadata": {},
   "outputs": [
    {
     "name": "stdout",
     "output_type": "stream",
     "text": [
      "Silhouette score 0.36432574754808533\n",
      "Completeness Score 0.12818329419148425\n",
      "Homogeneity score 0.1903375228598348\n"
     ]
    }
   ],
   "source": [
    "#print print manhattan and complete scores\n",
    "print(\"Silhouette score\",metrics.silhouette_score(X, model6.labels_))\n",
    "print(\"Completeness Score\",metrics.completeness_score(Y, model6.labels_))\n",
    "print(\"Homogeneity score\",metrics.homogeneity_score(Y, model6.labels_))"
   ]
  },
  {
   "cell_type": "code",
   "execution_count": 33,
   "id": "7bcdb41c",
   "metadata": {},
   "outputs": [
    {
     "data": {
      "image/png": "[encoded data removed]",
      "text/plain": [
       "<Figure size 1080x504 with 1 Axes>"
      ]
     },
     "metadata": {
      "needs_background": "light"
     },
     "output_type": "display_data"
    }
   ],
   "source": [
    "#Scores comparison\n",
    "N = 7\n",
    "ind = np.arange(N) \n",
    "width = 0.25\n",
    "plt.figure(figsize=(15,7))  \n",
    "Silhouette_score = [0.29228473496976964,0.4746179114406845,0.4746179114406845,0.521550852010723,0.29228473496976964,0.11287190796646573,0.36432574754808533]\n",
    "bar1 = plt.bar(ind, Silhouette_score, width, color = 'r')\n",
    "  \n",
    "Completeness_Score = [0.5580083990383766,0.21487523411688547,0.21487523411688547,0.5256595039562972,0.5580083990383766,0.23268602977743327,0.12818329419148425]\n",
    "bar2 = plt.bar(ind+width, Completeness_Score, width, color='g')\n",
    "  \n",
    "Homogeneity_score = [0.15239818561477284,0.24859730089101117,0.24859730089101117,0.8144284815251249,0.15239818561477284,0.00664479860265147,0.1903375228598348]\n",
    "bar3 = plt.bar(ind+width*2, Homogeneity_score, width, color = 'b')\n",
    "  \n",
    "plt.title(\"Scores Comparison\")\n",
    "  \n",
    "plt.xticks(ind+width,['cosine/average','cosine/complete','euclidean/complete','euclidean/ward','euclidean/average','manhattan/average','manhattan/complete'])\n",
    "plt.legend( (bar1, bar2, bar3), ('Silhouette score', 'Completeness Score', 'Homogeneity score') )\n",
    "plt.show()"
   ]
  },
  {
   "cell_type": "code",
   "execution_count": null,
   "id": "9249547a",
   "metadata": {},
   "outputs": [],
   "source": []
  },
  {
   "cell_type": "code",
   "execution_count": 23,
   "id": "68ddf1d9",
   "metadata": {},
   "outputs": [
    {
     "name": "stdout",
     "output_type": "stream",
     "text": [
      "2\n",
      "Silhouette score 0.43781378042100244\n",
      "Completeness Score 0.21617948848017723\n",
      "Homogeneity score 0.2138558670489278\n",
      "3\n",
      "Silhouette score 0.46715283601852253\n",
      "Completeness Score 0.4225879489762793\n",
      "Homogeneity score 0.5960971942814728\n",
      "4\n",
      "Silhouette score 0.4829045023683216\n",
      "Completeness Score 0.29300044601823644\n",
      "Homogeneity score 0.5569861269327002\n",
      "5\n",
      "Silhouette score 0.5412495744544581\n",
      "Completeness Score 0.22515348598023124\n",
      "Homogeneity score 0.5046717047550364\n",
      "6\n",
      "Silhouette score 0.5733611439474345\n",
      "Completeness Score 0.2239482714168082\n",
      "Homogeneity score 0.5555333394703866\n",
      "7\n",
      "Silhouette score 0.6071815754367859\n",
      "Completeness Score 0.26839211529750173\n",
      "Homogeneity score 0.7054903128611947\n",
      "8\n",
      "Silhouette score 0.6306275916475264\n",
      "Completeness Score 0.253365421169946\n",
      "Homogeneity score 0.7053381775644454\n",
      "9\n",
      "Silhouette score 0.6575047468590974\n",
      "Completeness Score 0.25864346778367114\n",
      "Homogeneity score 0.7470122794266589\n",
      "10\n",
      "Silhouette score 0.6827623274584592\n",
      "Completeness Score 0.19744860182566373\n",
      "Homogeneity score 0.5938590637149023\n",
      "11\n",
      "Silhouette score 0.7007589921083964\n",
      "Completeness Score 0.2469496823223821\n",
      "Homogeneity score 0.7586531485031663\n",
      "12\n",
      "Silhouette score 0.7224231144848399\n",
      "Completeness Score 0.25994358369405834\n",
      "Homogeneity score 0.8236293519969287\n",
      "13\n",
      "Silhouette score 0.7545797855819534\n",
      "Completeness Score 0.22245834520823107\n",
      "Homogeneity score 0.7270247993610475\n",
      "14\n",
      "Silhouette score 0.7788634069139875\n",
      "Completeness Score 0.24657596501913118\n",
      "Homogeneity score 0.8247727897912287\n",
      "15\n",
      "Silhouette score 0.7914482743436689\n",
      "Completeness Score 0.23053901174561606\n",
      "Homogeneity score 0.7820021106781698\n",
      "16\n",
      "Silhouette score 0.8100652832955568\n",
      "Completeness Score 0.24790958771240368\n",
      "Homogeneity score 0.8527687089519914\n",
      "17\n",
      "Silhouette score 0.8213411888483259\n",
      "Completeness Score 0.22282423161102544\n",
      "Homogeneity score 0.7755079331693397\n",
      "18\n",
      "Silhouette score 0.8382874912747659\n",
      "Completeness Score 0.23933816561330865\n",
      "Homogeneity score 0.8455045331897726\n",
      "19\n",
      "Silhouette score 0.8571423243619315\n",
      "Completeness Score 0.23780740920193258\n",
      "Homogeneity score 0.8520549075555421\n"
     ]
    }
   ],
   "source": [
    "#K means\n",
    "from sklearn import cluster\n",
    "from sklearn.preprocessing import LabelEncoder\n",
    "n_samples, n_features = employee1_mapped.shape\n",
    "n_digits = len(np.unique(Y))\n",
    "Y2 = LabelEncoder().fit_transform(Y)\n",
    "for k in range(2, 20):\n",
    " kmeans = cluster.KMeans(n_clusters=k)\n",
    " kmeans.fit(employee1_mapped)\n",
    " print(k)\n",
    " print(\"Silhouette score\",metrics.silhouette_score(employee1_mapped, kmeans.labels_))\n",
    " print(\"Completeness Score\",metrics.completeness_score(Y2, kmeans.labels_))\n",
    " print(\"Homogeneity score\",metrics.homogeneity_score(Y2, kmeans.labels_))\n"
   ]
  },
  {
   "cell_type": "code",
   "execution_count": 24,
   "id": "3022ff26",
   "metadata": {
    "scrolled": true
   },
   "outputs": [
    {
     "data": {
      "image/png": "[encoded data removed]",
      "text/plain": [
       "<Figure size 432x288 with 1 Axes>"
      ]
     },
     "metadata": {
      "needs_background": "light"
     },
     "output_type": "display_data"
    }
   ],
   "source": [
    "\n",
    "#Comparing results of varying clusters k  means\n",
    "plt.plot([0.43781378042100244,0.46715283601852253,0.4829045023683216,0.5412495744544581,0.5733611439474345,0.6071815754367859,0.6306275916475264, 0.6575047468590974, 0.6827623274584592,0.7007589921083964,0.7224231144848399,0.7545797855819534,0.7788634069139875,0.7914482743436689,0.8100652832955568,0.8213411888483259,0.8382874912747659,0.8571423243619315])\n",
    "plt.plot([0.21617948848017723,0.4225879489762793,0.29300044601823644,0.22515348598023124,0.2239482714168082,0.26839211529750173,0.253365421169946,0.25864346778367114,0.19744860182566373,0.2469496823223821,0.25994358369405834,0.22245834520823107,0.24657596501913118,0.23053901174561606,0.24790958771240368,0.22282423161102544,0.23933816561330865,0.23780740920193258])\n",
    "plt.plot([0.2138558670489278,0.5960971942814728,0.5569861269327002,0.5046717047550364,0.5555333394703866,0.7054903128611947,0.7053381775644454,0.7470122794266589,0.5938590637149023,0.7586531485031663,0.8236293519969287,0.7270247993610475,0.8247727897912287,0.7820021106781698,0.8527687089519914,0.7755079331693397,0.8455045331897726,0.8520549075555421])\n",
    "plt.xlabel(\"Number of cluster\")\n",
    "plt.legend(['Silhouette score',\"Completeness Score\",\"Homogeneity score\"])\n",
    "plt.title(\"Results of Varying Clusters - Kmeans\")\n",
    "plt.grid(True)\n",
    "plt.show()"
   ]
  },
  {
   "cell_type": "code",
   "execution_count": null,
   "id": "955ab1ed",
   "metadata": {},
   "outputs": [],
   "source": []
  },
  {
   "cell_type": "code",
   "execution_count": null,
   "id": "8bd93477",
   "metadata": {},
   "outputs": [],
   "source": []
  },
  {
   "cell_type": "code",
   "execution_count": null,
   "id": "97a93cf7",
   "metadata": {},
   "outputs": [],
   "source": []
  },
  {
   "cell_type": "code",
   "execution_count": null,
   "id": "d3ec3f7b",
   "metadata": {},
   "outputs": [],
   "source": []
  },
  {
   "cell_type": "code",
   "execution_count": null,
   "id": "daa53033",
   "metadata": {},
   "outputs": [],
   "source": []
  }
 ],
 "metadata": {
  "kernelspec": {
   "display_name": "Python 3",
   "language": "python",
   "name": "python3"
  },
  "language_info": {
   "codemirror_mode": {
    "name": "ipython",
    "version": 3
   },
   "file_extension": ".py",
   "mimetype": "text/x-python",
   "name": "python",
   "nbconvert_exporter": "python",
   "pygments_lexer": "ipython3",
   "version": "3.8.8"
  }
 },
 "nbformat": 4,
 "nbformat_minor": 5
}
